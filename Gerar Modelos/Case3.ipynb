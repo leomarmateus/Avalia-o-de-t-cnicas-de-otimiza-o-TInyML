{
  "cells": [
    {
      "cell_type": "code",
      "execution_count": null,
      "metadata": {
        "id": "PfkZmoHHhUOy"
      },
      "outputs": [],
      "source": [
        "# Common imports\n",
        "#jupyter notebook --NotebookApp.allow_origin='https://colab.research.google.com' --port=9090 --no-browser\n",
        "import os\n",
        "import pandas as pd\n",
        "import numpy as np\n",
        "from sklearn import preprocessing\n",
        "from sklearn.metrics import confusion_matrix, roc_auc_score, classification_report\n",
        "import seaborn as sns\n",
        "sns.set(color_codes=True)\n",
        "import matplotlib.pyplot as plt\n",
        "%matplotlib inline\n",
        "\n",
        "from numpy.random import seed\n",
        "import tensorflow as tf\n",
        "\n",
        "import tensorflow as tf\n",
        "from tensorflow import keras\n",
        "\n",
        "from keras.layers import Input, Dropout\n",
        "from keras.layers.core import Dense \n",
        "from keras.models import Model, Sequential, load_model\n",
        "from keras import regularizers\n",
        "from keras.models import model_from_json"
      ]
    },
    {
      "cell_type": "code",
      "source": [
        "from sklearn.model_selection import train_test_split\n",
        "#define MAX_BEARING_1 0.122483\n",
        "#define MAX_BEARING_2 0.224439\n",
        "#define MAX_BEARING_3 0.543770\n",
        "#define MAX_BEARING_4 0.244897\n",
        "\n",
        "#define MIN_BEARING_1 0.001533\n",
        "#define MIN_BEARING_2 0.002441\n",
        "#define MIN_BEARING_3 0.003663\n",
        "#define MIN_BEARING_4 0.001428\n"
      ],
      "metadata": {
        "id": "4uWiOj2dVmsn"
      },
      "execution_count": null,
      "outputs": []
    },
    {
      "cell_type": "code",
      "execution_count": null,
      "metadata": {
        "id": "34r8m5t-iJiX"
      },
      "outputs": [],
      "source": [
        "# from google.colab import drive \n",
        "# path_to_mount = '/content/gdrive/'\n",
        "# drive.mount(path_to_mount)"
      ]
    },
    {
      "cell_type": "code",
      "execution_count": null,
      "metadata": {
        "id": "eUreriMNih85"
      },
      "outputs": [],
      "source": [
        "# gdrive_path = path_to_mount + 'MyDrive/'\n",
        "# data_path  = 'Dados/4th_test/txt'\n",
        "\n",
        "# LOG_DIR_NAME = gdrive_path + data_path"
      ]
    },
    {
      "cell_type": "code",
      "execution_count": null,
      "metadata": {
        "id": "RDA4vcEhirER"
      },
      "outputs": [],
      "source": [
        "# data_dir = LOG_DIR_NAME\n",
        "# merged_data = pd.DataFrame()"
      ]
    },
    {
      "cell_type": "code",
      "execution_count": null,
      "metadata": {
        "id": "_GM4GQpilIUD"
      },
      "outputs": [],
      "source": [
        "# for filename in os.listdir(data_dir):\n",
        "#     # print(filename)\n",
        "#     dataset=pd.read_csv(os.path.join(data_dir, filename), sep='\\t')\n",
        "#     dataset_mean_abs = np.array(dataset.abs().mean())\n",
        "#     dataset_mean_abs = pd.DataFrame(dataset_mean_abs.reshape(1,4))\n",
        "#     dataset_mean_abs.index = [filename]\n",
        "#     merged_data = merged_data.append(dataset_mean_abs)\n",
        "\n",
        "# merged_data.columns = ['Bearing 1','Bearing 2','Bearing 3','Bearing 4']\n"
      ]
    },
    {
      "cell_type": "code",
      "source": [
        "from pandas.io.parsers.readers import read_csv\n",
        "X_test = pd.DataFrame()\n",
        "merge_data = pd.read_csv('merged_dataset_BearingTest_3.csv')\n",
        "df = merge_data.drop(['tempo'],axis = 1)\n",
        "merge_data['tempo'] = pd.to_datetime(merge_data['tempo'])\n",
        "X_test.index = pd.to_datetime(merge_data['tempo'], format='%Y.%m.%d.%H.%M.%S');\n",
        "X_test = X_test.sort_index();\n",
        "df.index = merge_data['tempo']\n",
        "merged_data = df"
      ],
      "metadata": {
        "id": "FoQCImMOIun2"
      },
      "execution_count": null,
      "outputs": []
    },
    {
      "cell_type": "code",
      "execution_count": null,
      "metadata": {
        "id": "p4R2mQBbltpw"
      },
      "outputs": [],
      "source": [
        "merged_data.index = pd.to_datetime(merged_data.index, format='%Y.%m.%d.%H.%M.%S');\n",
        "merged_data = merged_data.sort_index();\n",
        "merged_data.to_csv('merged_dataset_BearingTest_3.csv');\n"
      ]
    },
    {
      "cell_type": "code",
      "source": [
        "merged_data.describe()"
      ],
      "metadata": {
        "id": "q2bHvbCi2-AG",
        "outputId": "7657e16b-6a14-4039-af10-4a9a02665a81",
        "colab": {
          "base_uri": "https://localhost:8080/",
          "height": 300
        }
      },
      "execution_count": null,
      "outputs": [
        {
          "output_type": "execute_result",
          "data": {
            "text/plain": [
              "         Bearing 1    Bearing 2    Bearing 3    Bearing 4\n",
              "count  6324.000000  6324.000000  6324.000000  6324.000000\n",
              "mean      0.058445     0.064602     0.057390     0.044168\n",
              "std       0.005061     0.009270     0.023149     0.011082\n",
              "min       0.001533     0.002441     0.003663     0.001428\n",
              "25%       0.056456     0.061598     0.052594     0.040506\n",
              "50%       0.057655     0.062777     0.053938     0.043425\n",
              "75%       0.059216     0.064786     0.055308     0.044281\n",
              "max       0.122483     0.224439     0.543770     0.244897"
            ],
            "text/html": [
              "\n",
              "  <div id=\"df-fd5c91ff-b601-41fa-8933-39ef77fa0907\">\n",
              "    <div class=\"colab-df-container\">\n",
              "      <div>\n",
              "<style scoped>\n",
              "    .dataframe tbody tr th:only-of-type {\n",
              "        vertical-align: middle;\n",
              "    }\n",
              "\n",
              "    .dataframe tbody tr th {\n",
              "        vertical-align: top;\n",
              "    }\n",
              "\n",
              "    .dataframe thead th {\n",
              "        text-align: right;\n",
              "    }\n",
              "</style>\n",
              "<table border=\"1\" class=\"dataframe\">\n",
              "  <thead>\n",
              "    <tr style=\"text-align: right;\">\n",
              "      <th></th>\n",
              "      <th>Bearing 1</th>\n",
              "      <th>Bearing 2</th>\n",
              "      <th>Bearing 3</th>\n",
              "      <th>Bearing 4</th>\n",
              "    </tr>\n",
              "  </thead>\n",
              "  <tbody>\n",
              "    <tr>\n",
              "      <th>count</th>\n",
              "      <td>6324.000000</td>\n",
              "      <td>6324.000000</td>\n",
              "      <td>6324.000000</td>\n",
              "      <td>6324.000000</td>\n",
              "    </tr>\n",
              "    <tr>\n",
              "      <th>mean</th>\n",
              "      <td>0.058445</td>\n",
              "      <td>0.064602</td>\n",
              "      <td>0.057390</td>\n",
              "      <td>0.044168</td>\n",
              "    </tr>\n",
              "    <tr>\n",
              "      <th>std</th>\n",
              "      <td>0.005061</td>\n",
              "      <td>0.009270</td>\n",
              "      <td>0.023149</td>\n",
              "      <td>0.011082</td>\n",
              "    </tr>\n",
              "    <tr>\n",
              "      <th>min</th>\n",
              "      <td>0.001533</td>\n",
              "      <td>0.002441</td>\n",
              "      <td>0.003663</td>\n",
              "      <td>0.001428</td>\n",
              "    </tr>\n",
              "    <tr>\n",
              "      <th>25%</th>\n",
              "      <td>0.056456</td>\n",
              "      <td>0.061598</td>\n",
              "      <td>0.052594</td>\n",
              "      <td>0.040506</td>\n",
              "    </tr>\n",
              "    <tr>\n",
              "      <th>50%</th>\n",
              "      <td>0.057655</td>\n",
              "      <td>0.062777</td>\n",
              "      <td>0.053938</td>\n",
              "      <td>0.043425</td>\n",
              "    </tr>\n",
              "    <tr>\n",
              "      <th>75%</th>\n",
              "      <td>0.059216</td>\n",
              "      <td>0.064786</td>\n",
              "      <td>0.055308</td>\n",
              "      <td>0.044281</td>\n",
              "    </tr>\n",
              "    <tr>\n",
              "      <th>max</th>\n",
              "      <td>0.122483</td>\n",
              "      <td>0.224439</td>\n",
              "      <td>0.543770</td>\n",
              "      <td>0.244897</td>\n",
              "    </tr>\n",
              "  </tbody>\n",
              "</table>\n",
              "</div>\n",
              "      <button class=\"colab-df-convert\" onclick=\"convertToInteractive('df-fd5c91ff-b601-41fa-8933-39ef77fa0907')\"\n",
              "              title=\"Convert this dataframe to an interactive table.\"\n",
              "              style=\"display:none;\">\n",
              "        \n",
              "  <svg xmlns=\"http://www.w3.org/2000/svg\" height=\"24px\"viewBox=\"0 0 24 24\"\n",
              "       width=\"24px\">\n",
              "    <path d=\"M0 0h24v24H0V0z\" fill=\"none\"/>\n",
              "    <path d=\"M18.56 5.44l.94 2.06.94-2.06 2.06-.94-2.06-.94-.94-2.06-.94 2.06-2.06.94zm-11 1L8.5 8.5l.94-2.06 2.06-.94-2.06-.94L8.5 2.5l-.94 2.06-2.06.94zm10 10l.94 2.06.94-2.06 2.06-.94-2.06-.94-.94-2.06-.94 2.06-2.06.94z\"/><path d=\"M17.41 7.96l-1.37-1.37c-.4-.4-.92-.59-1.43-.59-.52 0-1.04.2-1.43.59L10.3 9.45l-7.72 7.72c-.78.78-.78 2.05 0 2.83L4 21.41c.39.39.9.59 1.41.59.51 0 1.02-.2 1.41-.59l7.78-7.78 2.81-2.81c.8-.78.8-2.07 0-2.86zM5.41 20L4 18.59l7.72-7.72 1.47 1.35L5.41 20z\"/>\n",
              "  </svg>\n",
              "      </button>\n",
              "      \n",
              "  <style>\n",
              "    .colab-df-container {\n",
              "      display:flex;\n",
              "      flex-wrap:wrap;\n",
              "      gap: 12px;\n",
              "    }\n",
              "\n",
              "    .colab-df-convert {\n",
              "      background-color: #E8F0FE;\n",
              "      border: none;\n",
              "      border-radius: 50%;\n",
              "      cursor: pointer;\n",
              "      display: none;\n",
              "      fill: #1967D2;\n",
              "      height: 32px;\n",
              "      padding: 0 0 0 0;\n",
              "      width: 32px;\n",
              "    }\n",
              "\n",
              "    .colab-df-convert:hover {\n",
              "      background-color: #E2EBFA;\n",
              "      box-shadow: 0px 1px 2px rgba(60, 64, 67, 0.3), 0px 1px 3px 1px rgba(60, 64, 67, 0.15);\n",
              "      fill: #174EA6;\n",
              "    }\n",
              "\n",
              "    [theme=dark] .colab-df-convert {\n",
              "      background-color: #3B4455;\n",
              "      fill: #D2E3FC;\n",
              "    }\n",
              "\n",
              "    [theme=dark] .colab-df-convert:hover {\n",
              "      background-color: #434B5C;\n",
              "      box-shadow: 0px 1px 3px 1px rgba(0, 0, 0, 0.15);\n",
              "      filter: drop-shadow(0px 1px 2px rgba(0, 0, 0, 0.3));\n",
              "      fill: #FFFFFF;\n",
              "    }\n",
              "  </style>\n",
              "\n",
              "      <script>\n",
              "        const buttonEl =\n",
              "          document.querySelector('#df-fd5c91ff-b601-41fa-8933-39ef77fa0907 button.colab-df-convert');\n",
              "        buttonEl.style.display =\n",
              "          google.colab.kernel.accessAllowed ? 'block' : 'none';\n",
              "\n",
              "        async function convertToInteractive(key) {\n",
              "          const element = document.querySelector('#df-fd5c91ff-b601-41fa-8933-39ef77fa0907');\n",
              "          const dataTable =\n",
              "            await google.colab.kernel.invokeFunction('convertToInteractive',\n",
              "                                                     [key], {});\n",
              "          if (!dataTable) return;\n",
              "\n",
              "          const docLinkHtml = 'Like what you see? Visit the ' +\n",
              "            '<a target=\"_blank\" href=https://colab.research.google.com/notebooks/data_table.ipynb>data table notebook</a>'\n",
              "            + ' to learn more about interactive tables.';\n",
              "          element.innerHTML = '';\n",
              "          dataTable['output_type'] = 'display_data';\n",
              "          await google.colab.output.renderOutput(dataTable, element);\n",
              "          const docLink = document.createElement('div');\n",
              "          docLink.innerHTML = docLinkHtml;\n",
              "          element.appendChild(docLink);\n",
              "        }\n",
              "      </script>\n",
              "    </div>\n",
              "  </div>\n",
              "  "
            ]
          },
          "metadata": {},
          "execution_count": 166
        }
      ]
    },
    {
      "cell_type": "code",
      "source": [
        "def mapeia(x, in_min, in_max, out_min, out_max):\n",
        "    df1 = x.reset_index()\n",
        "    df1 = ((x - in_min) * (out_max - out_min)) / (in_max - in_min) + out_min\n",
        "    return df1"
      ],
      "metadata": {
        "id": "MXJfddK6TL4i"
      },
      "execution_count": null,
      "outputs": []
    },
    {
      "cell_type": "code",
      "source": [
        "# teste = mapeia(merged_data, merged_data.min(),merged_data.max(),0,255).round(0)\n",
        "# teste.index =  merged_data.index\n",
        "# teste.describe()"
      ],
      "metadata": {
        "id": "XBpmm41xinaO"
      },
      "execution_count": null,
      "outputs": []
    },
    {
      "cell_type": "code",
      "source": [
        "dataset_train = merged_data['2004-03-28 11:21:57':'2004-04-10 00:21:57']\n",
        "dataset_test = merged_data['2004-04-10 00:21:57':]\n",
        "# dataset_test.plot(figsize = (12,6))\n",
        "# dataset_test"
      ],
      "metadata": {
        "id": "8bmWxChxplYE"
      },
      "execution_count": null,
      "outputs": []
    },
    {
      "cell_type": "code",
      "source": [
        "# dff = (dataset_test - dataset_train.min())/(dataset_train.max() - dataset_train.min())\n",
        "# dff.head()\n",
        "# print(dataset_train.min())\n",
        "# dataset_train.max()"
      ],
      "metadata": {
        "id": "0Mu_4uqYWb4d"
      },
      "execution_count": null,
      "outputs": []
    },
    {
      "cell_type": "code",
      "execution_count": null,
      "metadata": {
        "id": "aC1Gs-7plz2X"
      },
      "outputs": [],
      "source": [
        "scaler = preprocessing.MinMaxScaler()\n",
        "\n",
        "X_train = pd.DataFrame(scaler.fit_transform(dataset_train), \n",
        "                              columns=dataset_train.columns, \n",
        "                              index=dataset_train.index)\n",
        "# Random shuffle training data\n",
        "X_train.sample(frac=1)\n",
        "\n",
        "X_test = pd.DataFrame(scaler.transform(dataset_test), \n",
        "                             columns=dataset_test.columns, \n",
        "                             index=dataset_test.index)\n",
        "\n",
        "# X_test.to_excel(\"saida.xlsx\")\n",
        "# X_train = dataset_train;\n",
        "# X_test = dataset_test;\n",
        "\n",
        "# normal_x = stats.median_absolute_deviation(X_train)"
      ]
    },
    {
      "cell_type": "code",
      "execution_count": null,
      "metadata": {
        "id": "Sufu5lUg7OM7"
      },
      "outputs": [],
      "source": [
        "# X_test.head()"
      ]
    },
    {
      "cell_type": "code",
      "execution_count": null,
      "metadata": {
        "id": "GH-oZboVh3ZW",
        "colab": {
          "base_uri": "https://localhost:8080/",
          "height": 300
        },
        "outputId": "92b2584c-ad81-4a30-bbdd-b3d324aec5fc"
      },
      "outputs": [
        {
          "output_type": "execute_result",
          "data": {
            "text/plain": [
              "         Bearing 1    Bearing 2    Bearing 3    Bearing 4\n",
              "count  1125.000000  1125.000000  1125.000000  1125.000000\n",
              "mean      0.063355     0.069354     0.075143     0.052171\n",
              "std       0.010065     0.020400     0.051188     0.024280\n",
              "min       0.001533     0.002441     0.003663     0.001428\n",
              "25%       0.059448     0.061300     0.055576     0.043768\n",
              "50%       0.060260     0.061890     0.056635     0.044214\n",
              "75%       0.061528     0.065697     0.065190     0.045073\n",
              "max       0.122483     0.224439     0.543770     0.244897"
            ],
            "text/html": [
              "\n",
              "  <div id=\"df-80335d85-d3a5-44e4-94ac-289d8bcaa59c\">\n",
              "    <div class=\"colab-df-container\">\n",
              "      <div>\n",
              "<style scoped>\n",
              "    .dataframe tbody tr th:only-of-type {\n",
              "        vertical-align: middle;\n",
              "    }\n",
              "\n",
              "    .dataframe tbody tr th {\n",
              "        vertical-align: top;\n",
              "    }\n",
              "\n",
              "    .dataframe thead th {\n",
              "        text-align: right;\n",
              "    }\n",
              "</style>\n",
              "<table border=\"1\" class=\"dataframe\">\n",
              "  <thead>\n",
              "    <tr style=\"text-align: right;\">\n",
              "      <th></th>\n",
              "      <th>Bearing 1</th>\n",
              "      <th>Bearing 2</th>\n",
              "      <th>Bearing 3</th>\n",
              "      <th>Bearing 4</th>\n",
              "    </tr>\n",
              "  </thead>\n",
              "  <tbody>\n",
              "    <tr>\n",
              "      <th>count</th>\n",
              "      <td>1125.000000</td>\n",
              "      <td>1125.000000</td>\n",
              "      <td>1125.000000</td>\n",
              "      <td>1125.000000</td>\n",
              "    </tr>\n",
              "    <tr>\n",
              "      <th>mean</th>\n",
              "      <td>0.063355</td>\n",
              "      <td>0.069354</td>\n",
              "      <td>0.075143</td>\n",
              "      <td>0.052171</td>\n",
              "    </tr>\n",
              "    <tr>\n",
              "      <th>std</th>\n",
              "      <td>0.010065</td>\n",
              "      <td>0.020400</td>\n",
              "      <td>0.051188</td>\n",
              "      <td>0.024280</td>\n",
              "    </tr>\n",
              "    <tr>\n",
              "      <th>min</th>\n",
              "      <td>0.001533</td>\n",
              "      <td>0.002441</td>\n",
              "      <td>0.003663</td>\n",
              "      <td>0.001428</td>\n",
              "    </tr>\n",
              "    <tr>\n",
              "      <th>25%</th>\n",
              "      <td>0.059448</td>\n",
              "      <td>0.061300</td>\n",
              "      <td>0.055576</td>\n",
              "      <td>0.043768</td>\n",
              "    </tr>\n",
              "    <tr>\n",
              "      <th>50%</th>\n",
              "      <td>0.060260</td>\n",
              "      <td>0.061890</td>\n",
              "      <td>0.056635</td>\n",
              "      <td>0.044214</td>\n",
              "    </tr>\n",
              "    <tr>\n",
              "      <th>75%</th>\n",
              "      <td>0.061528</td>\n",
              "      <td>0.065697</td>\n",
              "      <td>0.065190</td>\n",
              "      <td>0.045073</td>\n",
              "    </tr>\n",
              "    <tr>\n",
              "      <th>max</th>\n",
              "      <td>0.122483</td>\n",
              "      <td>0.224439</td>\n",
              "      <td>0.543770</td>\n",
              "      <td>0.244897</td>\n",
              "    </tr>\n",
              "  </tbody>\n",
              "</table>\n",
              "</div>\n",
              "      <button class=\"colab-df-convert\" onclick=\"convertToInteractive('df-80335d85-d3a5-44e4-94ac-289d8bcaa59c')\"\n",
              "              title=\"Convert this dataframe to an interactive table.\"\n",
              "              style=\"display:none;\">\n",
              "        \n",
              "  <svg xmlns=\"http://www.w3.org/2000/svg\" height=\"24px\"viewBox=\"0 0 24 24\"\n",
              "       width=\"24px\">\n",
              "    <path d=\"M0 0h24v24H0V0z\" fill=\"none\"/>\n",
              "    <path d=\"M18.56 5.44l.94 2.06.94-2.06 2.06-.94-2.06-.94-.94-2.06-.94 2.06-2.06.94zm-11 1L8.5 8.5l.94-2.06 2.06-.94-2.06-.94L8.5 2.5l-.94 2.06-2.06.94zm10 10l.94 2.06.94-2.06 2.06-.94-2.06-.94-.94-2.06-.94 2.06-2.06.94z\"/><path d=\"M17.41 7.96l-1.37-1.37c-.4-.4-.92-.59-1.43-.59-.52 0-1.04.2-1.43.59L10.3 9.45l-7.72 7.72c-.78.78-.78 2.05 0 2.83L4 21.41c.39.39.9.59 1.41.59.51 0 1.02-.2 1.41-.59l7.78-7.78 2.81-2.81c.8-.78.8-2.07 0-2.86zM5.41 20L4 18.59l7.72-7.72 1.47 1.35L5.41 20z\"/>\n",
              "  </svg>\n",
              "      </button>\n",
              "      \n",
              "  <style>\n",
              "    .colab-df-container {\n",
              "      display:flex;\n",
              "      flex-wrap:wrap;\n",
              "      gap: 12px;\n",
              "    }\n",
              "\n",
              "    .colab-df-convert {\n",
              "      background-color: #E8F0FE;\n",
              "      border: none;\n",
              "      border-radius: 50%;\n",
              "      cursor: pointer;\n",
              "      display: none;\n",
              "      fill: #1967D2;\n",
              "      height: 32px;\n",
              "      padding: 0 0 0 0;\n",
              "      width: 32px;\n",
              "    }\n",
              "\n",
              "    .colab-df-convert:hover {\n",
              "      background-color: #E2EBFA;\n",
              "      box-shadow: 0px 1px 2px rgba(60, 64, 67, 0.3), 0px 1px 3px 1px rgba(60, 64, 67, 0.15);\n",
              "      fill: #174EA6;\n",
              "    }\n",
              "\n",
              "    [theme=dark] .colab-df-convert {\n",
              "      background-color: #3B4455;\n",
              "      fill: #D2E3FC;\n",
              "    }\n",
              "\n",
              "    [theme=dark] .colab-df-convert:hover {\n",
              "      background-color: #434B5C;\n",
              "      box-shadow: 0px 1px 3px 1px rgba(0, 0, 0, 0.15);\n",
              "      filter: drop-shadow(0px 1px 2px rgba(0, 0, 0, 0.3));\n",
              "      fill: #FFFFFF;\n",
              "    }\n",
              "  </style>\n",
              "\n",
              "      <script>\n",
              "        const buttonEl =\n",
              "          document.querySelector('#df-80335d85-d3a5-44e4-94ac-289d8bcaa59c button.colab-df-convert');\n",
              "        buttonEl.style.display =\n",
              "          google.colab.kernel.accessAllowed ? 'block' : 'none';\n",
              "\n",
              "        async function convertToInteractive(key) {\n",
              "          const element = document.querySelector('#df-80335d85-d3a5-44e4-94ac-289d8bcaa59c');\n",
              "          const dataTable =\n",
              "            await google.colab.kernel.invokeFunction('convertToInteractive',\n",
              "                                                     [key], {});\n",
              "          if (!dataTable) return;\n",
              "\n",
              "          const docLinkHtml = 'Like what you see? Visit the ' +\n",
              "            '<a target=\"_blank\" href=https://colab.research.google.com/notebooks/data_table.ipynb>data table notebook</a>'\n",
              "            + ' to learn more about interactive tables.';\n",
              "          element.innerHTML = '';\n",
              "          dataTable['output_type'] = 'display_data';\n",
              "          await google.colab.output.renderOutput(dataTable, element);\n",
              "          const docLink = document.createElement('div');\n",
              "          docLink.innerHTML = docLinkHtml;\n",
              "          element.appendChild(docLink);\n",
              "        }\n",
              "      </script>\n",
              "    </div>\n",
              "  </div>\n",
              "  "
            ]
          },
          "metadata": {},
          "execution_count": 173
        }
      ],
      "source": [
        "dataset_test.describe()"
      ]
    },
    {
      "cell_type": "code",
      "source": [
        "merged_data.plot(figsize = (12,6))"
      ],
      "metadata": {
        "colab": {
          "base_uri": "https://localhost:8080/",
          "height": 409
        },
        "id": "DSK50K30KaQF",
        "outputId": "bb33b73c-0331-4a89-84f8-c09e1941cf1a"
      },
      "execution_count": null,
      "outputs": [
        {
          "output_type": "execute_result",
          "data": {
            "text/plain": [
              "<matplotlib.axes._subplots.AxesSubplot at 0x7fca18127510>"
            ]
          },
          "metadata": {},
          "execution_count": 174
        },
        {
          "output_type": "display_data",
          "data": {
            "text/plain": [
              "<Figure size 864x432 with 1 Axes>"
            ],
            "image/png": "[encoded data removed]"
          },
          "metadata": {
            "needs_background": "light"
          }
        }
      ]
    },
    {
      "cell_type": "code",
      "source": [
        "#dataset.to_csv('X_test_BearingTest_3.csv');"
      ],
      "metadata": {
        "id": "8RrAwV67nucm"
      },
      "execution_count": null,
      "outputs": []
    },
    {
      "cell_type": "code",
      "execution_count": null,
      "metadata": {
        "id": "XMPaAkpamKfH"
      },
      "outputs": [],
      "source": [
        "from tensorflow.random import set_seed "
      ]
    },
    {
      "cell_type": "code",
      "execution_count": null,
      "metadata": {
        "id": "_J5ECtD9l_uo"
      },
      "outputs": [],
      "source": [
        "set_seed(10)\n",
        "act_func = 'relu'\n",
        "\n",
        "# Input layer:\n",
        "model=Sequential()\n",
        "# First hidden layer, connected to input vector X. \n",
        "model.add(Dense(30,activation=act_func,\n",
        "                kernel_initializer='glorot_uniform',\n",
        "                kernel_regularizer=regularizers.l2(0.0),\n",
        "                input_shape=(X_train.shape[1],)\n",
        "               )\n",
        "         )\n",
        "\n",
        "model.add(Dense(2,activation=act_func,\n",
        "                kernel_initializer='glorot_uniform'))\n",
        "\n",
        "model.add(Dense(30,activation=act_func,\n",
        "                kernel_initializer='glorot_uniform'))\n",
        "\n",
        "model.add(Dense(30,activation=act_func,\n",
        "                kernel_initializer='glorot_uniform'))\n",
        "\n",
        "model.add(Dense(X_train.shape[1],\n",
        "                kernel_initializer='glorot_uniform'))\n",
        "\n",
        "model.compile(loss='mse',optimizer='adam')\n",
        "\n",
        "# Train model for 100 epochs, batch size of 10: \n",
        "NUM_EPOCHS=100\n",
        "BATCH_SIZE=10"
      ]
    },
    {
      "cell_type": "code",
      "execution_count": null,
      "metadata": {
        "id": "_SOyAvFFmRtG"
      },
      "outputs": [],
      "source": [
        "history=model.fit(np.array(X_train),np.array(X_train),\n",
        "                  batch_size=BATCH_SIZE, \n",
        "                  epochs=NUM_EPOCHS,\n",
        "                  validation_split=0.05,\n",
        "                  verbose = 1)"
      ]
    },
    {
      "cell_type": "code",
      "execution_count": null,
      "metadata": {
        "id": "cCKNkmfimWw9",
        "colab": {
          "base_uri": "https://localhost:8080/",
          "height": 289
        },
        "outputId": "863c47fa-baa8-4110-c939-14affe02c9a9"
      },
      "outputs": [
        {
          "output_type": "display_data",
          "data": {
            "text/plain": [
              "<Figure size 432x288 with 1 Axes>"
            ],
            "image/png": "[encoded data removed]"
          },
          "metadata": {
            "needs_background": "light"
          }
        }
      ],
      "source": [
        "plt.plot(history.history['loss'],\n",
        "         'b',\n",
        "         label='Training loss')\n",
        "plt.plot(history.history['val_loss'],\n",
        "         'r',\n",
        "         label='Validation loss')\n",
        "plt.legend(loc='upper right')\n",
        "plt.xlabel('Epochs')\n",
        "plt.ylabel('Loss, [mse]')\n",
        "plt.ylim([0,.1])\n",
        "plt.show()"
      ]
    },
    {
      "cell_type": "code",
      "execution_count": null,
      "metadata": {
        "colab": {
          "base_uri": "https://localhost:8080/",
          "height": 357
        },
        "id": "Wzj-AXKZmake",
        "outputId": "f6d133fd-f15d-4cc5-8ace-5e2c0c242b27"
      },
      "outputs": [
        {
          "output_type": "stream",
          "name": "stderr",
          "text": [
            "/usr/local/lib/python3.7/dist-packages/seaborn/distributions.py:2619: FutureWarning: `distplot` is a deprecated function and will be removed in a future version. Please adapt your code to use either `displot` (a figure-level function with similar flexibility) or `histplot` (an axes-level function for histograms).\n",
            "  warnings.warn(msg, FutureWarning)\n"
          ]
        },
        {
          "output_type": "execute_result",
          "data": {
            "text/plain": [
              "(0.0, 0.3)"
            ]
          },
          "metadata": {},
          "execution_count": 180
        },
        {
          "output_type": "display_data",
          "data": {
            "text/plain": [
              "<Figure size 432x288 with 1 Axes>"
            ],
            "image/png": "[encoded data removed]"
          },
          "metadata": {
            "needs_background": "light"
          }
        }
      ],
      "source": [
        "X_pred = model.predict(np.array(X_train))\n",
        "X_pred = pd.DataFrame(X_pred, \n",
        "                      columns=X_train.columns)\n",
        "X_pred.index = X_train.index\n",
        "\n",
        "scored = pd.DataFrame(index=X_train.index)\n",
        "scored['Loss_mae'] = np.mean(np.abs(X_pred-X_train), axis = 1)\n",
        "plt.figure()\n",
        "sns.distplot(scored['Loss_mae'],\n",
        "             bins = 10, \n",
        "             kde= True,\n",
        "            color = 'blue');\n",
        "plt.xlim([0.0,.3])"
      ]
    },
    {
      "cell_type": "code",
      "execution_count": null,
      "metadata": {
        "id": "eDsxwlckmePe"
      },
      "outputs": [],
      "source": [
        "X_pred = model.predict(np.array(X_test))\n",
        "X_pred = pd.DataFrame(X_pred, columns=X_test.columns)\n",
        "X_pred.index = X_test.index\n",
        "\n",
        "scored = pd.DataFrame(index=X_test.index)\n",
        "scored['Loss_mae'] = np.mean(np.abs(X_pred-X_test), axis = 1)\n",
        "scored['Threshold'] = 0.25\n",
        "scored['Anomaly'] = scored['Loss_mae'] > scored['Threshold']"
      ]
    },
    {
      "cell_type": "code",
      "source": [
        "scored['Loss_mae'] = np.mean(np.abs(X_pred-X_test), axis = 1)\n",
        "scored_1 = scored"
      ],
      "metadata": {
        "id": "gpe_PfqHo8ip"
      },
      "execution_count": null,
      "outputs": []
    },
    {
      "cell_type": "code",
      "source": [
        "scored.plot(logy= True , figsize = (10,6), ylim = [1e-2,1e2], color = ['blue','red'])"
      ],
      "metadata": {
        "colab": {
          "base_uri": "https://localhost:8080/",
          "height": 415
        },
        "id": "4luX-dyBjmcX",
        "outputId": "2d1ac13b-80ce-49b5-d12b-3f19bf3ea93c"
      },
      "execution_count": null,
      "outputs": [
        {
          "output_type": "execute_result",
          "data": {
            "text/plain": [
              "<matplotlib.axes._subplots.AxesSubplot at 0x7fca17b742d0>"
            ]
          },
          "metadata": {},
          "execution_count": 183
        },
        {
          "output_type": "display_data",
          "data": {
            "text/plain": [
              "<Figure size 720x432 with 1 Axes>"
            ],
            "image/png": "[encoded data removed]"
          },
          "metadata": {
            "needs_background": "light"
          }
        }
      ]
    },
    {
      "cell_type": "code",
      "source": [
        "# scored.tail(300)\n",
        "scored_1.to_csv('colab.csv', index=False)"
      ],
      "metadata": {
        "id": "XAHuj0c-Obyb"
      },
      "execution_count": null,
      "outputs": []
    },
    {
      "cell_type": "code",
      "source": [
        "X_pred_train = model.predict(np.array(X_train))\n",
        "X_pred_train = pd.DataFrame(X_pred_train, \n",
        "                      columns=X_train.columns)\n",
        "X_pred_train.index = X_train.index\n",
        "\n",
        "scored_train = pd.DataFrame(index=X_train.index)"
      ],
      "metadata": {
        "id": "8QsnUmdxtNB8"
      },
      "execution_count": null,
      "outputs": []
    },
    {
      "cell_type": "code",
      "execution_count": null,
      "metadata": {
        "id": "uwzHV8emmhSW"
      },
      "outputs": [],
      "source": [
        "scored_train['Loss_mae'] = np.mean(np.abs(X_pred_train-X_train), axis = 1)\n",
        "scored_train['Threshold'] = 0.25\n",
        "scored_train['Anomaly'] = scored_train['Loss_mae'] > scored_train['Threshold']\n",
        "scored = pd.concat([scored_train, scored])"
      ]
    },
    {
      "cell_type": "code",
      "execution_count": null,
      "metadata": {
        "id": "c_UABiM1mjV-",
        "colab": {
          "base_uri": "https://localhost:8080/",
          "height": 415
        },
        "outputId": "54058f5a-aa3d-4acd-869c-ff924769eca2"
      },
      "outputs": [
        {
          "output_type": "execute_result",
          "data": {
            "text/plain": [
              "<matplotlib.axes._subplots.AxesSubplot at 0x7fca17a00c50>"
            ]
          },
          "metadata": {},
          "execution_count": 188
        },
        {
          "output_type": "display_data",
          "data": {
            "text/plain": [
              "<Figure size 1080x432 with 1 Axes>"
            ],
            "image/png": "[encoded data removed]"
          },
          "metadata": {
            "needs_background": "light"
          }
        }
      ],
      "source": [
        "scored.plot(logy= True , figsize = (15,6), ylim = [1e-2,1e2], color = ['blue','red'])"
      ]
    },
    {
      "cell_type": "code",
      "source": [
        "baseline_model_accuracy = model.evaluate(X_test, X_test, verbose=0)"
      ],
      "metadata": {
        "id": "3TV9_H2gxDDF"
      },
      "execution_count": null,
      "outputs": []
    },
    {
      "cell_type": "code",
      "execution_count": null,
      "metadata": {
        "id": "lT7o6eJCofv0"
      },
      "outputs": [],
      "source": [
        "# Define paths to model files\n",
        "\n",
        "MODELS_DIR = 'models/'\n",
        "\n",
        "if not os.path.exists(MODELS_DIR):\n",
        "    os.mkdir(MODELS_DIR)\n",
        "\n",
        "MODEL_TF = MODELS_DIR + 'model'\n",
        "\n",
        "# Default\n",
        "MODEL_NO_QUANT_TFLITE = MODELS_DIR + 'model_no_quant.tflite'\n",
        "\n",
        "# Post-training integer quantization\n",
        "MODEL_PTQ_TFLITE = MODELS_DIR + 'model.tflite'\n",
        "MODEL_PTQ_TFLITE_MICRO = MODELS_DIR + 'model_qpa.cc'\n",
        "\n",
        "# Quantization Aware Training\n",
        "MODEL_QAT_TFLITE = MODELS_DIR + 'model_qat.tflite'\n",
        "MODEL_QAT_TFLITE_MICRO = MODELS_DIR + 'model_qat.cc'\n",
        "\n",
        "# Pruning\n",
        "MODEL_PRU_TFLITE = MODELS_DIR + 'model_pru.tflite'\n",
        "MODEL_PRU_TFLITE_MICRO = MODELS_DIR + 'model_pru.cc'\n",
        "\n",
        "# Weight cluster\n",
        "MODEL_CLU_TFLITE = MODELS_DIR + 'model_clu.tflite'\n",
        "MODEL_CLU_TFLITE_MICRO = MODELS_DIR + 'model_clu.cc'\n"
      ]
    },
    {
      "cell_type": "code",
      "execution_count": null,
      "metadata": {
        "id": "mhEMyAwWo0pe",
        "colab": {
          "base_uri": "https://localhost:8080/"
        },
        "outputId": "6add6efc-77ce-4895-c1a3-9ebe112cbb8f"
      },
      "outputs": [
        {
          "output_type": "stream",
          "name": "stdout",
          "text": [
            "INFO:tensorflow:Assets written to: models/model/assets\n"
          ]
        },
        {
          "output_type": "stream",
          "name": "stderr",
          "text": [
            "INFO:tensorflow:Assets written to: models/model/assets\n"
          ]
        },
        {
          "output_type": "stream",
          "name": "stdout",
          "text": [
            "Saved baseline model to: /tmp/tmpqqdmkdrt.h5\n"
          ]
        }
      ],
      "source": [
        "# model.save(MODEL_TF)\n",
        "import tempfile\n",
        "\n",
        "model.save('test' + '.h5')\n",
        "model.save(MODEL_TF)\n",
        "_, keras_file = tempfile.mkstemp('.h5')\n",
        "tf.keras.models.save_model(model, keras_file, include_optimizer=False)\n",
        "print('Saved baseline model to:', keras_file)"
      ]
    },
    {
      "cell_type": "code",
      "execution_count": null,
      "metadata": {
        "id": "kfVXT4Lxo-kd",
        "colab": {
          "base_uri": "https://localhost:8080/"
        },
        "outputId": "69c1ebb9-0fa4-4867-eff0-ac2934d9e697"
      },
      "outputs": [
        {
          "output_type": "stream",
          "name": "stderr",
          "text": [
            "WARNING:absl:Buffer deduplication procedure will be skipped when flatbuffer library is not properly loaded\n"
          ]
        },
        {
          "output_type": "execute_result",
          "data": {
            "text/plain": [
              "8016"
            ]
          },
          "metadata": {},
          "execution_count": 192
        }
      ],
      "source": [
        "# DEFAULT MODEL - CONVERT TO TFLITE\n",
        "\n",
        "# Convert the model to the TensorFlow Lite format without quantization\n",
        "converter = tf.lite.TFLiteConverter.from_saved_model(MODEL_TF)\n",
        "converter.optimizations = [tf.lite.Optimize.DEFAULT]\n",
        "model_no_quant_tflite = converter.convert()\n",
        "\n",
        "# Save the model to disk\n",
        "open(MODEL_NO_QUANT_TFLITE, \"wb\").write(model_no_quant_tflite)\n",
        "\n",
        "# Show Model\n",
        "# tf.keras.utils.plot_model(model, show_shapes=True, show_layer_names=True)"
      ]
    },
    {
      "cell_type": "code",
      "source": [
        "xx_train = X_train.to_numpy()\n",
        "xx_test = X_test.to_numpy()"
      ],
      "metadata": {
        "id": "Ylx3PK2T25qv"
      },
      "execution_count": null,
      "outputs": []
    },
    {
      "cell_type": "code",
      "source": [
        "def representative_dataset():\n",
        "  for i in range(50):\n",
        "    yield([xx_train[i].astype(np.float32).reshape(1, 4)])\n",
        "\n",
        "converter = tf.lite.TFLiteConverter.from_keras_model(model)\n",
        "converter.optimizations = [tf.lite.Optimize.DEFAULT]\n",
        "converter.representative_dataset = representative_dataset\n",
        "\n",
        "tflite_model_quant = converter.convert()"
      ],
      "metadata": {
        "id": "28jbK2BE1n8J",
        "colab": {
          "base_uri": "https://localhost:8080/"
        },
        "outputId": "abef8aa8-1f44-4e55-f500-0602581d5d79"
      },
      "execution_count": null,
      "outputs": [
        {
          "output_type": "stream",
          "name": "stdout",
          "text": [
            "INFO:tensorflow:Assets written to: /tmp/tmpw5d5jevg/assets\n"
          ]
        },
        {
          "output_type": "stream",
          "name": "stderr",
          "text": [
            "INFO:tensorflow:Assets written to: /tmp/tmpw5d5jevg/assets\n",
            "/usr/local/lib/python3.7/dist-packages/tensorflow/lite/python/convert.py:746: UserWarning: Statistics for quantized inputs were expected, but not specified; continuing anyway.\n",
            "  warnings.warn(\"Statistics for quantized inputs were expected, but not \"\n",
            "WARNING:absl:Buffer deduplication procedure will be skipped when flatbuffer library is not properly loaded\n"
          ]
        }
      ]
    },
    {
      "cell_type": "code",
      "execution_count": null,
      "metadata": {
        "id": "erDVRrjJpAU2"
      },
      "outputs": [],
      "source": [
        "size_tf = os.path.getsize(MODEL_TF)\n",
        "size_no_quant_tflite = os.path.getsize(MODEL_NO_QUANT_TFLITE)"
      ]
    },
    {
      "cell_type": "code",
      "execution_count": null,
      "metadata": {
        "id": "zl1DL3jFpJzV",
        "colab": {
          "base_uri": "https://localhost:8080/"
        },
        "outputId": "f044ec07-7e8b-4164-b7be-55762e5adab6"
      },
      "outputs": [
        {
          "output_type": "stream",
          "name": "stdout",
          "text": [
            "TF Model Size = 4096 kB\n",
            "TF Lite No Quant Model Size = 8016 kB\n"
          ]
        }
      ],
      "source": [
        "print(f'TF Model Size = {size_tf} kB')\n",
        "print(f'TF Lite No Quant Model Size = {size_no_quant_tflite} kB')"
      ]
    },
    {
      "cell_type": "code",
      "execution_count": null,
      "metadata": {
        "id": "aS8ssOtivU13"
      },
      "outputs": [],
      "source": [
        "def create_array(np_array, var_type, var_name, line_limit=80, indent=4):\n",
        "    \n",
        "    c_str = ''\n",
        "    \n",
        "    # Add array shape\n",
        "    for i, dim in enumerate(np_array.shape):\n",
        "        c_str += 'const unsigned int ' + var_name + '_dim' + str(i + 1) + ' = ' + str(dim) + ';\\n'\n",
        "    c_str += '\\n'\n",
        "        \n",
        "    # Declare C variable\n",
        "    c_str += 'const ' + var_type + ' ' + var_name\n",
        "    for dim in np_array.shape:\n",
        "        c_str += '[' + str(dim) + ']'\n",
        "    c_str += ' = {\\n'\n",
        "    \n",
        "    # Create string for the array\n",
        "    indent = ' ' * indent\n",
        "    array_str = indent\n",
        "    line_len = len(indent)\n",
        "    val_sep = ', '\n",
        "    array = np_array.flatten()\n",
        "    for i, val in enumerate(array):\n",
        "        \n",
        "        # Create a new line if string is over line limit\n",
        "        val_str = str(val)\n",
        "        if line_len + len(val_str) + len(val_sep) > line_limit:\n",
        "            array_str += '\\n' + indent\n",
        "            line_len = len(indent)\n",
        "\n",
        "        # Add value and separator\n",
        "        array_str += val_str\n",
        "        line_len += len(val_str)\n",
        "        if (i + 1) < len(array):\n",
        "            array_str += val_sep\n",
        "            line_len += len(val_sep)\n",
        "\n",
        "    # Add closing brace\n",
        "    c_str += array_str + '\\n};\\n'\n",
        "        \n",
        "    return c_str\n",
        "    \n",
        "# Function to create a header file with given C code as a string\n",
        "def create_header(c_code, name):\n",
        "    \n",
        "    c_str = ''\n",
        "    \n",
        "    # Create header guard\n",
        "    c_str += '#ifndef ' + name.upper() + '_H\\n'\n",
        "    c_str += '#define ' + name.upper() + '_H\\n\\n'\n",
        "    \n",
        "    # Add provided code\n",
        "    c_str += c_code\n",
        "    \n",
        "    # Close out header guard\n",
        "    c_str += '\\n#endif //' + name.upper() + '_H'\n",
        "    \n",
        "    return c_str"
      ]
    },
    {
      "cell_type": "code",
      "execution_count": null,
      "metadata": {
        "id": "08ZNc9EtuvFn"
      },
      "outputs": [],
      "source": [
        "# Construct header file\n",
        "hex_array = [format(val, '#04x') for val in model_no_quant_tflite]\n",
        "c_model = create_array(np.array(hex_array), 'unsigned char', 'wine')\n",
        "header_str = create_header(c_model, 'wine')"
      ]
    },
    {
      "cell_type": "code",
      "execution_count": null,
      "metadata": {
        "id": "zZ1qb-uJwA0m"
      },
      "outputs": [],
      "source": [
        "from os.path import join\n"
      ]
    },
    {
      "cell_type": "code",
      "execution_count": null,
      "metadata": {
        "id": "qlAat156vBGw"
      },
      "outputs": [],
      "source": [
        "# Save C header file\n",
        "with open(join('models', 'wine') + '.h', 'w') as file:\n",
        "    file.write(header_str)"
      ]
    },
    {
      "cell_type": "code",
      "execution_count": null,
      "metadata": {
        "id": "XnqQWgRRwD7n"
      },
      "outputs": [],
      "source": [
        "# input_tensor = dataset_train\n",
        "# pred = model.predict(input_tensor)\n",
        "# mse = np.mean(np.power(dataset_train - pred, 2), axis=1)\n",
        "# print(\"Prediction:\", pred)\n",
        "# print(\"MSE:\", *mse)"
      ]
    },
    {
      "cell_type": "code",
      "source": [
        "xx_test"
      ],
      "metadata": {
        "id": "bitcZQozlRHz",
        "outputId": "a77ca738-d0e4-4dd6-be77-1a8cc3524162",
        "colab": {
          "base_uri": "https://localhost:8080/"
        }
      },
      "execution_count": null,
      "outputs": [
        {
          "output_type": "execute_result",
          "data": {
            "text/plain": [
              "array([[ 0.58415009,  0.2541186 ,  0.60108295,  0.35612298],\n",
              "       [ 0.67882409,  0.27898488,  0.34714867,  0.20978517],\n",
              "       [ 0.63922405,  0.37297164,  0.77307239,  0.27669449],\n",
              "       ...,\n",
              "       [ 7.01650185, 16.42886873, 53.78171661, 34.53607919],\n",
              "       [ 7.48037313, 16.16752254, 75.081736  , 35.84893709],\n",
              "       [-5.84547518, -6.51138134, -7.41396799, -7.76213556]])"
            ]
          },
          "metadata": {},
          "execution_count": 202
        }
      ]
    },
    {
      "cell_type": "code",
      "source": [
        "# POST-TRAINING INTEGER QUANTIZATION  --> TFLITE & CC\n",
        "\n",
        "# Convert the model to the TensorFlow Lite format with quantization\n",
        "\n",
        "converter = tf.lite.TFLiteConverter.from_saved_model(MODEL_TF)\n",
        "\n",
        "# Enforce integer only quantization\n",
        "converter.target_spec.supported_ops = [tf.lite.OpsSet.TFLITE_BUILTINS_INT8]\n",
        "converter.inference_input_type = tf.int8\n",
        "converter.inference_output_type = tf.int8\n",
        "\n",
        "def representative_dataset():\n",
        "  for i in range(50):\n",
        "    yield([xx_test[i].astype(np.float32).reshape(1, 4)])\n",
        "  \n",
        "# Provide a representative dataset to ensure we quantize correctly.\n",
        "converter.representative_dataset = representative_dataset\n",
        "\n",
        "# Set the optimization flag.\n",
        "converter.optimizations = [tf.lite.Optimize.DEFAULT]\n",
        "\n",
        "model_tflite = converter.convert()\n",
        "\n",
        "# Save the model to disk\n",
        "open(MODEL_PTQ_TFLITE, \"wb\").write(model_tflite)\n",
        "\n",
        "# Convert to a C source file, i.e, a TensorFlow Lite for Microcontrollers model\n",
        "!xxd -i {MODEL_PTQ_TFLITE} > {MODEL_PTQ_TFLITE_MICRO}\n",
        "\n",
        "# Update variable names\n",
        "REPLACE_TEXT = MODEL_PTQ_TFLITE.replace('/', '_').replace('.', '_')\n",
        "!sed -i 's/'{REPLACE_TEXT}'/g_model/g' {MODEL_PTQ_TFLITE_MICRO}\n",
        "\n",
        "# Update variables - const\n",
        "!sed -i 's/unsigned char/alignas(8) const unsigned char/g' {MODEL_PTQ_TFLITE_MICRO}\n",
        "!sed -i 's/unsigned int/const int/g' {MODEL_PTQ_TFLITE_MICRO}"
      ],
      "metadata": {
        "id": "3cM1-gWHwku6",
        "colab": {
          "base_uri": "https://localhost:8080/"
        },
        "outputId": "befc4577-af45-4bf0-b003-2df3e38f85c6"
      },
      "execution_count": null,
      "outputs": [
        {
          "output_type": "stream",
          "name": "stderr",
          "text": [
            "WARNING:absl:Buffer deduplication procedure will be skipped when flatbuffer library is not properly loaded\n"
          ]
        }
      ]
    },
    {
      "cell_type": "code",
      "source": [
        "size_ptq_tflite = os.path.getsize(MODEL_PTQ_TFLITE)\n",
        "print(f'TF Lite Post-Training Int Quantization Model Size = {size_ptq_tflite} kB')"
      ],
      "metadata": {
        "id": "q2sa3mQH6AnD",
        "colab": {
          "base_uri": "https://localhost:8080/"
        },
        "outputId": "d5a8685a-44bc-4529-eadf-a0e27ca37e03"
      },
      "execution_count": null,
      "outputs": [
        {
          "output_type": "stream",
          "name": "stdout",
          "text": [
            "TF Lite Post-Training Int Quantization Model Size = 4608 kB\n"
          ]
        }
      ]
    },
    {
      "cell_type": "code",
      "source": [
        "# ! pip install tensorflow==2.8.0\n",
        "!pip3 install tensorflow_model_optimization\n",
        "\n",
        "# Install xxd if it is not available\n",
        "# !apt-get update && apt-get -qq install xxd\n",
        "!apt-get -qq install xxd"
      ],
      "metadata": {
        "id": "Fr2XuWFbyDDV",
        "colab": {
          "base_uri": "https://localhost:8080/"
        },
        "outputId": "7d272746-5716-4753-c1a6-d7f75fc3b15e"
      },
      "execution_count": null,
      "outputs": [
        {
          "output_type": "stream",
          "name": "stdout",
          "text": [
            "Requirement already satisfied: tensorflow_model_optimization in /usr/local/lib/python3.7/dist-packages (0.7.2)\n",
            "Requirement already satisfied: six~=1.10 in /usr/local/lib/python3.7/dist-packages (from tensorflow_model_optimization) (1.15.0)\n",
            "Requirement already satisfied: numpy~=1.14 in /usr/local/lib/python3.7/dist-packages (from tensorflow_model_optimization) (1.21.6)\n",
            "Requirement already satisfied: dm-tree~=0.1.1 in /usr/local/lib/python3.7/dist-packages (from tensorflow_model_optimization) (0.1.7)\n"
          ]
        }
      ]
    },
    {
      "cell_type": "code",
      "source": [
        "# QUANTIZATION AWARE TRAINING\n",
        "\n",
        "import tensorflow_model_optimization as tfmot\n",
        "\n",
        "quantize_model = tfmot.quantization.keras.quantize_model\n",
        "\n",
        "# q_aware stands for for quantization aware.\n",
        "q_aware_model = quantize_model(model)\n",
        "\n",
        "# `quantize_model` requires a recompile.\n",
        "q_aware_model.compile(\n",
        "  loss='mse',\n",
        "  optimizer='adam'\n",
        ")\n",
        "\n",
        "\n",
        "q_aware_model.fit(np.array(X_train),np.array(X_train),\n",
        "    epochs = NUM_EPOCHS,\n",
        "    batch_size = BATCH_SIZE,\n",
        "    validation_split=0.05,\n",
        "    verbose = 1\n",
        ")\n",
        "\n",
        "# model.fit(np.array(X_train),np.array(X_train),\n",
        "#                   batch_size=BATCH_SIZE, \n",
        "#                   epochs=NUM_EPOCHS,\n",
        "#                   validation_split=0.05,\n",
        "#                   verbose = 1)\n",
        "\n",
        "# print('Default Model Accuracy: %.3f' % model.evaluate(X_test, y_test)[1])\n",
        "# print('Quantization Aware Model Accuracy: %.3f' % q_aware_model.evaluate(X_test, y_test)[1])"
      ],
      "metadata": {
        "id": "zELr5CdpxraF",
        "colab": {
          "base_uri": "https://localhost:8080/"
        },
        "outputId": "47ffeae9-7dc7-438a-ffdf-2caa4f31fce1"
      },
      "execution_count": null,
      "outputs": [
        {
          "output_type": "stream",
          "name": "stdout",
          "text": [
            "Epoch 1/100\n",
            "171/171 [==============================] - 2s 4ms/step - loss: 0.0130 - val_loss: 0.0118\n",
            "Epoch 2/100\n",
            "171/171 [==============================] - 1s 3ms/step - loss: 0.0127 - val_loss: 0.0120\n",
            "Epoch 3/100\n",
            "171/171 [==============================] - 0s 3ms/step - loss: 0.0124 - val_loss: 0.0131\n",
            "Epoch 4/100\n",
            "171/171 [==============================] - 0s 3ms/step - loss: 0.0122 - val_loss: 0.0117\n",
            "Epoch 5/100\n",
            "171/171 [==============================] - 1s 4ms/step - loss: 0.0122 - val_loss: 0.0125\n",
            "Epoch 6/100\n",
            "171/171 [==============================] - 1s 5ms/step - loss: 0.0120 - val_loss: 0.0121\n",
            "Epoch 7/100\n",
            "171/171 [==============================] - 1s 6ms/step - loss: 0.0120 - val_loss: 0.0123\n",
            "Epoch 8/100\n",
            "171/171 [==============================] - 1s 6ms/step - loss: 0.0120 - val_loss: 0.0130\n",
            "Epoch 9/100\n",
            "171/171 [==============================] - 1s 5ms/step - loss: 0.0120 - val_loss: 0.0116\n",
            "Epoch 10/100\n",
            "171/171 [==============================] - 1s 6ms/step - loss: 0.0119 - val_loss: 0.0121\n",
            "Epoch 11/100\n",
            "171/171 [==============================] - 1s 7ms/step - loss: 0.0119 - val_loss: 0.0110\n",
            "Epoch 12/100\n",
            "171/171 [==============================] - 1s 8ms/step - loss: 0.0119 - val_loss: 0.0123\n",
            "Epoch 13/100\n",
            "171/171 [==============================] - 1s 9ms/step - loss: 0.0119 - val_loss: 0.0121\n",
            "Epoch 14/100\n",
            "171/171 [==============================] - 1s 5ms/step - loss: 0.0118 - val_loss: 0.0115\n",
            "Epoch 15/100\n",
            "171/171 [==============================] - 1s 7ms/step - loss: 0.0118 - val_loss: 0.0125\n",
            "Epoch 16/100\n",
            "171/171 [==============================] - 1s 7ms/step - loss: 0.0117 - val_loss: 0.0128\n",
            "Epoch 17/100\n",
            "171/171 [==============================] - 1s 8ms/step - loss: 0.0117 - val_loss: 0.0111\n",
            "Epoch 18/100\n",
            "171/171 [==============================] - 1s 9ms/step - loss: 0.0117 - val_loss: 0.0122\n",
            "Epoch 19/100\n",
            "171/171 [==============================] - 2s 9ms/step - loss: 0.0117 - val_loss: 0.0120\n",
            "Epoch 20/100\n",
            "171/171 [==============================] - 1s 8ms/step - loss: 0.0117 - val_loss: 0.0119\n",
            "Epoch 21/100\n",
            "171/171 [==============================] - 1s 8ms/step - loss: 0.0117 - val_loss: 0.0127\n",
            "Epoch 22/100\n",
            "171/171 [==============================] - 2s 9ms/step - loss: 0.0118 - val_loss: 0.0109\n",
            "Epoch 23/100\n",
            "171/171 [==============================] - 1s 9ms/step - loss: 0.0118 - val_loss: 0.0120\n",
            "Epoch 24/100\n",
            "171/171 [==============================] - 1s 8ms/step - loss: 0.0117 - val_loss: 0.0125\n",
            "Epoch 25/100\n",
            "171/171 [==============================] - 2s 10ms/step - loss: 0.0118 - val_loss: 0.0103\n",
            "Epoch 26/100\n",
            "171/171 [==============================] - 1s 8ms/step - loss: 0.0118 - val_loss: 0.0130\n",
            "Epoch 27/100\n",
            "171/171 [==============================] - 1s 9ms/step - loss: 0.0117 - val_loss: 0.0122\n",
            "Epoch 28/100\n",
            "171/171 [==============================] - 2s 10ms/step - loss: 0.0117 - val_loss: 0.0124\n",
            "Epoch 29/100\n",
            "171/171 [==============================] - 2s 9ms/step - loss: 0.0119 - val_loss: 0.0122\n",
            "Epoch 30/100\n",
            "171/171 [==============================] - 1s 8ms/step - loss: 0.0118 - val_loss: 0.0112\n",
            "Epoch 31/100\n",
            "171/171 [==============================] - 2s 9ms/step - loss: 0.0118 - val_loss: 0.0113\n",
            "Epoch 32/100\n",
            "171/171 [==============================] - 2s 11ms/step - loss: 0.0118 - val_loss: 0.0124\n",
            "Epoch 33/100\n",
            "171/171 [==============================] - 1s 8ms/step - loss: 0.0118 - val_loss: 0.0127\n",
            "Epoch 34/100\n",
            "171/171 [==============================] - 2s 11ms/step - loss: 0.0118 - val_loss: 0.0111\n",
            "Epoch 35/100\n",
            "171/171 [==============================] - 2s 10ms/step - loss: 0.0118 - val_loss: 0.0113\n",
            "Epoch 36/100\n",
            "171/171 [==============================] - 2s 9ms/step - loss: 0.0118 - val_loss: 0.0123\n",
            "Epoch 37/100\n",
            "171/171 [==============================] - 2s 9ms/step - loss: 0.0119 - val_loss: 0.0127\n",
            "Epoch 38/100\n",
            "171/171 [==============================] - 1s 8ms/step - loss: 0.0118 - val_loss: 0.0110\n",
            "Epoch 39/100\n",
            "171/171 [==============================] - 2s 9ms/step - loss: 0.0118 - val_loss: 0.0117\n",
            "Epoch 40/100\n",
            "171/171 [==============================] - 1s 7ms/step - loss: 0.0118 - val_loss: 0.0113\n",
            "Epoch 41/100\n",
            "171/171 [==============================] - 1s 5ms/step - loss: 0.0119 - val_loss: 0.0132\n",
            "Epoch 42/100\n",
            "171/171 [==============================] - 1s 5ms/step - loss: 0.0118 - val_loss: 0.0129\n",
            "Epoch 43/100\n",
            "171/171 [==============================] - 1s 6ms/step - loss: 0.0120 - val_loss: 0.0120\n",
            "Epoch 44/100\n",
            "171/171 [==============================] - 2s 9ms/step - loss: 0.0118 - val_loss: 0.0117\n",
            "Epoch 45/100\n",
            "171/171 [==============================] - 1s 5ms/step - loss: 0.0117 - val_loss: 0.0116\n",
            "Epoch 46/100\n",
            "171/171 [==============================] - 1s 6ms/step - loss: 0.0119 - val_loss: 0.0133\n",
            "Epoch 47/100\n",
            "171/171 [==============================] - 1s 6ms/step - loss: 0.0118 - val_loss: 0.0123\n",
            "Epoch 48/100\n",
            "171/171 [==============================] - 1s 5ms/step - loss: 0.0118 - val_loss: 0.0119\n",
            "Epoch 49/100\n",
            "171/171 [==============================] - 1s 7ms/step - loss: 0.0118 - val_loss: 0.0117\n",
            "Epoch 50/100\n",
            "171/171 [==============================] - 1s 6ms/step - loss: 0.0118 - val_loss: 0.0120\n",
            "Epoch 51/100\n",
            "171/171 [==============================] - 1s 3ms/step - loss: 0.0118 - val_loss: 0.0110\n",
            "Epoch 52/100\n",
            "171/171 [==============================] - 0s 3ms/step - loss: 0.0118 - val_loss: 0.0118\n",
            "Epoch 53/100\n",
            "171/171 [==============================] - 0s 3ms/step - loss: 0.0118 - val_loss: 0.0118\n",
            "Epoch 54/100\n",
            "171/171 [==============================] - 0s 2ms/step - loss: 0.0117 - val_loss: 0.0125\n",
            "Epoch 55/100\n",
            "171/171 [==============================] - 0s 3ms/step - loss: 0.0118 - val_loss: 0.0126\n",
            "Epoch 56/100\n",
            "171/171 [==============================] - 0s 3ms/step - loss: 0.0117 - val_loss: 0.0118\n",
            "Epoch 57/100\n",
            "171/171 [==============================] - 0s 3ms/step - loss: 0.0118 - val_loss: 0.0112\n",
            "Epoch 58/100\n",
            "171/171 [==============================] - 0s 3ms/step - loss: 0.0118 - val_loss: 0.0115\n",
            "Epoch 59/100\n",
            "171/171 [==============================] - 0s 2ms/step - loss: 0.0118 - val_loss: 0.0123\n",
            "Epoch 60/100\n",
            "171/171 [==============================] - 0s 3ms/step - loss: 0.0118 - val_loss: 0.0122\n",
            "Epoch 61/100\n",
            "171/171 [==============================] - 0s 2ms/step - loss: 0.0118 - val_loss: 0.0123\n",
            "Epoch 62/100\n",
            "171/171 [==============================] - 0s 2ms/step - loss: 0.0118 - val_loss: 0.0131\n",
            "Epoch 63/100\n",
            "171/171 [==============================] - 0s 3ms/step - loss: 0.0117 - val_loss: 0.0119\n",
            "Epoch 64/100\n",
            "171/171 [==============================] - 0s 3ms/step - loss: 0.0117 - val_loss: 0.0122\n",
            "Epoch 65/100\n",
            "171/171 [==============================] - 0s 3ms/step - loss: 0.0118 - val_loss: 0.0128\n",
            "Epoch 66/100\n",
            "171/171 [==============================] - 0s 3ms/step - loss: 0.0117 - val_loss: 0.0121\n",
            "Epoch 67/100\n",
            "171/171 [==============================] - 0s 3ms/step - loss: 0.0117 - val_loss: 0.0123\n",
            "Epoch 68/100\n",
            "171/171 [==============================] - 0s 3ms/step - loss: 0.0117 - val_loss: 0.0123\n",
            "Epoch 69/100\n",
            "171/171 [==============================] - 0s 3ms/step - loss: 0.0117 - val_loss: 0.0121\n",
            "Epoch 70/100\n",
            "171/171 [==============================] - 0s 2ms/step - loss: 0.0117 - val_loss: 0.0115\n",
            "Epoch 71/100\n",
            "171/171 [==============================] - 0s 3ms/step - loss: 0.0117 - val_loss: 0.0126\n",
            "Epoch 72/100\n",
            "171/171 [==============================] - 0s 3ms/step - loss: 0.0118 - val_loss: 0.0117\n",
            "Epoch 73/100\n",
            "171/171 [==============================] - 0s 3ms/step - loss: 0.0116 - val_loss: 0.0111\n",
            "Epoch 74/100\n",
            "171/171 [==============================] - 0s 3ms/step - loss: 0.0118 - val_loss: 0.0120\n",
            "Epoch 75/100\n",
            "171/171 [==============================] - 0s 3ms/step - loss: 0.0116 - val_loss: 0.0132\n",
            "Epoch 76/100\n",
            "171/171 [==============================] - 0s 2ms/step - loss: 0.0117 - val_loss: 0.0124\n",
            "Epoch 77/100\n",
            "171/171 [==============================] - 0s 3ms/step - loss: 0.0117 - val_loss: 0.0123\n",
            "Epoch 78/100\n",
            "171/171 [==============================] - 0s 3ms/step - loss: 0.0117 - val_loss: 0.0111\n",
            "Epoch 79/100\n",
            "171/171 [==============================] - 0s 3ms/step - loss: 0.0118 - val_loss: 0.0120\n",
            "Epoch 80/100\n",
            "171/171 [==============================] - 0s 3ms/step - loss: 0.0116 - val_loss: 0.0114\n",
            "Epoch 81/100\n",
            "171/171 [==============================] - 0s 3ms/step - loss: 0.0117 - val_loss: 0.0126\n",
            "Epoch 82/100\n",
            "171/171 [==============================] - 0s 3ms/step - loss: 0.0116 - val_loss: 0.0117\n",
            "Epoch 83/100\n",
            "171/171 [==============================] - 0s 3ms/step - loss: 0.0116 - val_loss: 0.0118\n",
            "Epoch 84/100\n",
            "171/171 [==============================] - 0s 3ms/step - loss: 0.0117 - val_loss: 0.0114\n",
            "Epoch 85/100\n",
            "171/171 [==============================] - 0s 3ms/step - loss: 0.0115 - val_loss: 0.0120\n",
            "Epoch 86/100\n",
            "171/171 [==============================] - 0s 3ms/step - loss: 0.0115 - val_loss: 0.0112\n",
            "Epoch 87/100\n",
            "171/171 [==============================] - 0s 3ms/step - loss: 0.0115 - val_loss: 0.0114\n",
            "Epoch 88/100\n",
            "171/171 [==============================] - 0s 3ms/step - loss: 0.0116 - val_loss: 0.0122\n",
            "Epoch 89/100\n",
            "171/171 [==============================] - 0s 2ms/step - loss: 0.0116 - val_loss: 0.0111\n",
            "Epoch 90/100\n",
            "171/171 [==============================] - 0s 3ms/step - loss: 0.0117 - val_loss: 0.0120\n",
            "Epoch 91/100\n",
            "171/171 [==============================] - 0s 3ms/step - loss: 0.0117 - val_loss: 0.0114\n",
            "Epoch 92/100\n",
            "171/171 [==============================] - 0s 3ms/step - loss: 0.0116 - val_loss: 0.0117\n",
            "Epoch 93/100\n",
            "171/171 [==============================] - 0s 2ms/step - loss: 0.0114 - val_loss: 0.0111\n",
            "Epoch 94/100\n",
            "171/171 [==============================] - 0s 3ms/step - loss: 0.0115 - val_loss: 0.0107\n",
            "Epoch 95/100\n",
            "171/171 [==============================] - 0s 3ms/step - loss: 0.0116 - val_loss: 0.0122\n",
            "Epoch 96/100\n",
            "171/171 [==============================] - 0s 3ms/step - loss: 0.0116 - val_loss: 0.0112\n",
            "Epoch 97/100\n",
            "171/171 [==============================] - 0s 3ms/step - loss: 0.0115 - val_loss: 0.0112\n",
            "Epoch 98/100\n",
            "171/171 [==============================] - 0s 3ms/step - loss: 0.0116 - val_loss: 0.0116\n",
            "Epoch 99/100\n",
            "171/171 [==============================] - 0s 3ms/step - loss: 0.0115 - val_loss: 0.0119\n",
            "Epoch 100/100\n",
            "171/171 [==============================] - 0s 3ms/step - loss: 0.0116 - val_loss: 0.0115\n"
          ]
        },
        {
          "output_type": "execute_result",
          "data": {
            "text/plain": [
              "<keras.callbacks.History at 0x7fca17709f90>"
            ]
          },
          "metadata": {},
          "execution_count": 206
        }
      ]
    },
    {
      "cell_type": "code",
      "source": [
        "# QUANTIZATION AWARE TRAINING --> TFLITE & CC\n",
        "\n",
        "converter = tf.lite.TFLiteConverter.from_keras_model(q_aware_model)\n",
        "converter.optimizations = [tf.lite.Optimize.DEFAULT]\n",
        "\n",
        "quantized_tflite_model = converter.convert()\n",
        "\n",
        "# Save the model to disk\n",
        "open(MODEL_QAT_TFLITE, \"wb\").write(quantized_tflite_model)\n",
        "\n",
        "# Convert to a C source file, i.e, a TensorFlow Lite for Microcontrollers model\n",
        "!xxd -i {MODEL_QAT_TFLITE} > {MODEL_QAT_TFLITE_MICRO}\n",
        "\n",
        "# Update variable names\n",
        "REPLACE_TEXT = MODEL_QAT_TFLITE.replace('/', '_').replace('.', '_')\n",
        "!sed -i 's/'{REPLACE_TEXT}'/g_model/g' {MODEL_QAT_TFLITE_MICRO}\n",
        "\n",
        "# Update variables - const\n",
        "!sed -i 's/unsigned char/alignas(8) const unsigned char/g' {MODEL_QAT_TFLITE_MICRO}\n",
        "!sed -i 's/unsigned int/const int/g' {MODEL_QAT_TFLITE_MICRO}"
      ],
      "metadata": {
        "id": "uPO4bp3P-bVV",
        "colab": {
          "base_uri": "https://localhost:8080/"
        },
        "outputId": "ec2aac40-d39d-45f4-f058-bdf1a21a4647"
      },
      "execution_count": null,
      "outputs": [
        {
          "output_type": "stream",
          "name": "stderr",
          "text": [
            "WARNING:absl:Found untraced functions such as dense_11_layer_call_fn, dense_11_layer_call_and_return_conditional_losses, dense_12_layer_call_fn, dense_12_layer_call_and_return_conditional_losses, dense_13_layer_call_fn while saving (showing 5 of 10). These functions will not be directly callable after loading.\n"
          ]
        },
        {
          "output_type": "stream",
          "name": "stdout",
          "text": [
            "INFO:tensorflow:Assets written to: /tmp/tmpe9l04jui/assets\n"
          ]
        },
        {
          "output_type": "stream",
          "name": "stderr",
          "text": [
            "INFO:tensorflow:Assets written to: /tmp/tmpe9l04jui/assets\n",
            "/usr/local/lib/python3.7/dist-packages/tensorflow/lite/python/convert.py:746: UserWarning: Statistics for quantized inputs were expected, but not specified; continuing anyway.\n",
            "  warnings.warn(\"Statistics for quantized inputs were expected, but not \"\n",
            "WARNING:absl:Buffer deduplication procedure will be skipped when flatbuffer library is not properly loaded\n"
          ]
        }
      ]
    },
    {
      "cell_type": "code",
      "source": [
        "# print(\"Size of gzipped pruned TFlite model: %.2f bytes\" % (get_gzipped_model_size(MODEL_PTQ_TFLITE_MICRO)))\n",
        "# print(\"Size of gzipped pruned TFlite model: %.2f bytes\" % (get_gzipped_model_size(MODEL_QAT_TFLITE_MICRO)))"
      ],
      "metadata": {
        "id": "k6p6d9NDgTfs"
      },
      "execution_count": null,
      "outputs": []
    },
    {
      "cell_type": "code",
      "source": [
        "# Calculate size\n",
        "size_tf = os.path.getsize(MODEL_TF)\n",
        "size_no_quant_tflite = os.path.getsize(MODEL_NO_QUANT_TFLITE)\n",
        "size_ptq_tflite = os.path.getsize(MODEL_PTQ_TFLITE)\n",
        "size_qat_tflite = os.path.getsize(MODEL_QAT_TFLITE)\n",
        "\n",
        "print(f'TF Model Size = {size_tf} kB')\n",
        "print(f'TF Lite No Quant Model Size = {size_no_quant_tflite} kB')\n",
        "print(f'TF Lite Post-Training Int Quantization Model Size = {size_ptq_tflite} kB')\n",
        "print(f'TF Lite Quantization Aware Training Model Size = {size_qat_tflite} kB')"
      ],
      "metadata": {
        "id": "eIj-amJf_COF",
        "colab": {
          "base_uri": "https://localhost:8080/"
        },
        "outputId": "b4dd8d63-514b-49da-d5f1-b18b6e05c23e"
      },
      "execution_count": null,
      "outputs": [
        {
          "output_type": "stream",
          "name": "stdout",
          "text": [
            "TF Model Size = 4096 kB\n",
            "TF Lite No Quant Model Size = 8016 kB\n",
            "TF Lite Post-Training Int Quantization Model Size = 4608 kB\n",
            "TF Lite Quantization Aware Training Model Size = 5544 kB\n"
          ]
        }
      ]
    },
    {
      "cell_type": "code",
      "source": [],
      "metadata": {
        "id": "hjnNG8k7gFol"
      },
      "execution_count": null,
      "outputs": []
    },
    {
      "cell_type": "markdown",
      "source": [
        "### **pruning**"
      ],
      "metadata": {
        "id": "bf0YUrj6149f"
      }
    },
    {
      "cell_type": "code",
      "execution_count": null,
      "metadata": {
        "id": "HyuSZxBGrv58",
        "colab": {
          "base_uri": "https://localhost:8080/",
          "height": 644
        },
        "outputId": "7b340ffe-da8f-454a-a38b-7489e4dff470"
      },
      "outputs": [
        {
          "output_type": "execute_result",
          "data": {
            "text/plain": [
              "<IPython.core.display.Image object>"
            ],
            "image/png": "[encoded data removed]"
          },
          "metadata": {},
          "execution_count": 210
        }
      ],
      "source": [
        "tf.keras.utils.plot_model(model, show_shapes=True, show_layer_names=True)"
      ]
    },
    {
      "cell_type": "code",
      "source": [
        "import tensorflow_model_optimization as tfmot\n",
        "\n",
        "prune_low_magnitude = tfmot.sparsity.keras.prune_low_magnitude\n",
        "\n",
        "# Compute end step to finish pruning after  epochs.\n",
        "batch_size = 10\n",
        "epochs = 100\n",
        "validation_split = 0.05 # 10% of training set will be used for validation set. "
      ],
      "metadata": {
        "id": "ngwKY6v8uNSo"
      },
      "execution_count": null,
      "outputs": []
    },
    {
      "cell_type": "code",
      "source": [
        "num_images = X_train.shape[0] * (1 - validation_split)\n",
        "end_step = np.ceil(num_images / batch_size).astype(np.int32) * epochs"
      ],
      "metadata": {
        "id": "s3Kfakituhst"
      },
      "execution_count": null,
      "outputs": []
    },
    {
      "cell_type": "code",
      "source": [
        "# Define model for pruning.\n",
        "pruning_params = {\n",
        "      'pruning_schedule': tfmot.sparsity.keras.PolynomialDecay(initial_sparsity=0.10,\n",
        "                                                               final_sparsity=0.80,\n",
        "                                                               begin_step=0,\n",
        "                                                               end_step=end_step)\n",
        "}\n",
        "\n",
        "model_for_pruning = prune_low_magnitude(model, **pruning_params)\n",
        "\n",
        "# `prune_low_magnitude` requires a recompile.\n",
        "model_for_pruning.compile(optimizer='adam',\n",
        "              loss='mse',\n",
        "              metrics=['accuracy'])\n",
        "\n",
        "model_for_pruning.summary()"
      ],
      "metadata": {
        "colab": {
          "base_uri": "https://localhost:8080/"
        },
        "id": "m9CI18r_udxG",
        "outputId": "62e6ddde-1397-4cc4-d68f-c0071fac57f3"
      },
      "execution_count": null,
      "outputs": [
        {
          "output_type": "stream",
          "name": "stderr",
          "text": [
            "/usr/local/lib/python3.7/dist-packages/tensorflow_model_optimization/python/core/sparsity/keras/pruning_wrapper.py:218: UserWarning: `layer.add_variable` is deprecated and will be removed in a future version. Please use `layer.add_weight` method instead.\n",
            "  aggregation=tf.VariableAggregation.MEAN)\n",
            "/usr/local/lib/python3.7/dist-packages/tensorflow_model_optimization/python/core/sparsity/keras/pruning_wrapper.py:225: UserWarning: `layer.add_variable` is deprecated and will be removed in a future version. Please use `layer.add_weight` method instead.\n",
            "  aggregation=tf.VariableAggregation.MEAN)\n",
            "/usr/local/lib/python3.7/dist-packages/tensorflow_model_optimization/python/core/sparsity/keras/pruning_wrapper.py:238: UserWarning: `layer.add_variable` is deprecated and will be removed in a future version. Please use `layer.add_weight` method instead.\n",
            "  trainable=False)\n"
          ]
        },
        {
          "output_type": "stream",
          "name": "stdout",
          "text": [
            "Model: \"sequential_2\"\n",
            "_________________________________________________________________\n",
            " Layer (type)                Output Shape              Param #   \n",
            "=================================================================\n",
            " prune_low_magnitude_dense_1  (None, 30)               272       \n",
            " 1 (PruneLowMagnitude)                                           \n",
            "                                                                 \n",
            " prune_low_magnitude_dense_1  (None, 2)                124       \n",
            " 2 (PruneLowMagnitude)                                           \n",
            "                                                                 \n",
            " prune_low_magnitude_dense_1  (None, 30)               152       \n",
            " 3 (PruneLowMagnitude)                                           \n",
            "                                                                 \n",
            " prune_low_magnitude_dense_1  (None, 30)               1832      \n",
            " 4 (PruneLowMagnitude)                                           \n",
            "                                                                 \n",
            " prune_low_magnitude_dense_1  (None, 4)                246       \n",
            " 5 (PruneLowMagnitude)                                           \n",
            "                                                                 \n",
            "=================================================================\n",
            "Total params: 2,626\n",
            "Trainable params: 1,356\n",
            "Non-trainable params: 1,270\n",
            "_________________________________________________________________\n"
          ]
        }
      ]
    },
    {
      "cell_type": "code",
      "source": [
        "logdir = tempfile.mkdtemp()\n",
        "\n",
        "callbacks = [\n",
        "  tfmot.sparsity.keras.UpdatePruningStep(),\n",
        "  tfmot.sparsity.keras.PruningSummaries(log_dir=logdir),\n",
        "]\n"
      ],
      "metadata": {
        "id": "d8-YF-amux-s"
      },
      "execution_count": null,
      "outputs": []
    },
    {
      "cell_type": "code",
      "source": [
        "model_for_pruning.fit(X_train, X_train,\n",
        "                  batch_size=batch_size, epochs=epochs, validation_split=validation_split,callbacks=callbacks)"
      ],
      "metadata": {
        "colab": {
          "base_uri": "https://localhost:8080/"
        },
        "id": "L31oHBmfvWlo",
        "outputId": "8448f76a-9a88-4f79-c6b4-c659d13f003b"
      },
      "execution_count": null,
      "outputs": [
        {
          "output_type": "stream",
          "name": "stdout",
          "text": [
            "Epoch 1/100\n",
            "  1/171 [..............................] - ETA: 13:19 - loss: 0.0095 - accuracy: 0.5000WARNING:tensorflow:Callback method `on_train_batch_end` is slow compared to the batch time (batch time: 0.0051s vs `on_train_batch_end` time: 0.0195s). Check your callbacks.\n"
          ]
        },
        {
          "output_type": "stream",
          "name": "stderr",
          "text": [
            "WARNING:tensorflow:Callback method `on_train_batch_end` is slow compared to the batch time (batch time: 0.0051s vs `on_train_batch_end` time: 0.0195s). Check your callbacks.\n"
          ]
        },
        {
          "output_type": "stream",
          "name": "stdout",
          "text": [
            "171/171 [==============================] - 6s 8ms/step - loss: 0.0118 - accuracy: 0.5386 - val_loss: 0.0124 - val_accuracy: 0.8681\n",
            "Epoch 2/100\n",
            "171/171 [==============================] - 1s 5ms/step - loss: 0.0119 - accuracy: 0.5398 - val_loss: 0.0115 - val_accuracy: 0.8791\n",
            "Epoch 3/100\n",
            "171/171 [==============================] - 1s 5ms/step - loss: 0.0117 - accuracy: 0.5304 - val_loss: 0.0125 - val_accuracy: 0.8681\n",
            "Epoch 4/100\n",
            "171/171 [==============================] - 1s 5ms/step - loss: 0.0117 - accuracy: 0.5357 - val_loss: 0.0113 - val_accuracy: 0.9231\n",
            "Epoch 5/100\n",
            "171/171 [==============================] - 1s 5ms/step - loss: 0.0117 - accuracy: 0.5304 - val_loss: 0.0128 - val_accuracy: 0.9231\n",
            "Epoch 6/100\n",
            "171/171 [==============================] - 1s 5ms/step - loss: 0.0117 - accuracy: 0.5374 - val_loss: 0.0118 - val_accuracy: 0.8571\n",
            "Epoch 7/100\n",
            "171/171 [==============================] - 1s 5ms/step - loss: 0.0117 - accuracy: 0.5333 - val_loss: 0.0119 - val_accuracy: 0.8681\n",
            "Epoch 8/100\n",
            "171/171 [==============================] - 1s 6ms/step - loss: 0.0117 - accuracy: 0.5333 - val_loss: 0.0127 - val_accuracy: 0.8681\n",
            "Epoch 9/100\n",
            "171/171 [==============================] - 1s 7ms/step - loss: 0.0118 - accuracy: 0.5368 - val_loss: 0.0111 - val_accuracy: 0.8681\n",
            "Epoch 10/100\n",
            "171/171 [==============================] - 1s 6ms/step - loss: 0.0117 - accuracy: 0.5345 - val_loss: 0.0120 - val_accuracy: 0.8242\n",
            "Epoch 11/100\n",
            "171/171 [==============================] - 1s 6ms/step - loss: 0.0118 - accuracy: 0.5357 - val_loss: 0.0107 - val_accuracy: 0.9231\n",
            "Epoch 12/100\n",
            "171/171 [==============================] - 1s 5ms/step - loss: 0.0117 - accuracy: 0.5474 - val_loss: 0.0117 - val_accuracy: 0.8791\n",
            "Epoch 13/100\n",
            "171/171 [==============================] - 1s 5ms/step - loss: 0.0117 - accuracy: 0.5345 - val_loss: 0.0118 - val_accuracy: 0.8681\n",
            "Epoch 14/100\n",
            "171/171 [==============================] - 1s 5ms/step - loss: 0.0117 - accuracy: 0.5450 - val_loss: 0.0116 - val_accuracy: 0.8681\n",
            "Epoch 15/100\n",
            "171/171 [==============================] - 1s 7ms/step - loss: 0.0117 - accuracy: 0.5468 - val_loss: 0.0124 - val_accuracy: 0.9231\n",
            "Epoch 16/100\n",
            "171/171 [==============================] - 1s 6ms/step - loss: 0.0117 - accuracy: 0.5520 - val_loss: 0.0124 - val_accuracy: 0.8901\n",
            "Epoch 17/100\n",
            "171/171 [==============================] - 1s 5ms/step - loss: 0.0117 - accuracy: 0.5404 - val_loss: 0.0108 - val_accuracy: 0.9121\n",
            "Epoch 18/100\n",
            "171/171 [==============================] - 1s 5ms/step - loss: 0.0117 - accuracy: 0.5474 - val_loss: 0.0119 - val_accuracy: 0.9231\n",
            "Epoch 19/100\n",
            "171/171 [==============================] - 1s 5ms/step - loss: 0.0117 - accuracy: 0.5550 - val_loss: 0.0119 - val_accuracy: 0.9121\n",
            "Epoch 20/100\n",
            "171/171 [==============================] - 1s 6ms/step - loss: 0.0124 - accuracy: 0.5404 - val_loss: 0.0120 - val_accuracy: 0.9121\n",
            "Epoch 21/100\n",
            "171/171 [==============================] - 1s 6ms/step - loss: 0.0119 - accuracy: 0.5544 - val_loss: 0.0116 - val_accuracy: 0.9121\n",
            "Epoch 22/100\n",
            "171/171 [==============================] - 1s 5ms/step - loss: 0.0117 - accuracy: 0.5579 - val_loss: 0.0115 - val_accuracy: 0.9011\n",
            "Epoch 23/100\n",
            "171/171 [==============================] - 1s 5ms/step - loss: 0.0118 - accuracy: 0.5684 - val_loss: 0.0131 - val_accuracy: 0.9231\n",
            "Epoch 24/100\n",
            "171/171 [==============================] - 1s 5ms/step - loss: 0.0117 - accuracy: 0.5655 - val_loss: 0.0133 - val_accuracy: 0.9231\n",
            "Epoch 25/100\n",
            "171/171 [==============================] - 1s 4ms/step - loss: 0.0120 - accuracy: 0.5550 - val_loss: 0.0100 - val_accuracy: 0.9231\n",
            "Epoch 26/100\n",
            "171/171 [==============================] - 1s 4ms/step - loss: 0.0117 - accuracy: 0.5620 - val_loss: 0.0124 - val_accuracy: 0.8901\n",
            "Epoch 27/100\n",
            "171/171 [==============================] - 1s 4ms/step - loss: 0.0118 - accuracy: 0.5661 - val_loss: 0.0119 - val_accuracy: 0.9011\n",
            "Epoch 28/100\n",
            "171/171 [==============================] - 1s 5ms/step - loss: 0.0119 - accuracy: 0.5579 - val_loss: 0.0125 - val_accuracy: 0.8681\n",
            "Epoch 29/100\n",
            "171/171 [==============================] - 1s 5ms/step - loss: 0.0120 - accuracy: 0.5661 - val_loss: 0.0121 - val_accuracy: 0.9231\n",
            "Epoch 30/100\n",
            "171/171 [==============================] - 1s 5ms/step - loss: 0.0117 - accuracy: 0.5585 - val_loss: 0.0111 - val_accuracy: 0.9231\n",
            "Epoch 31/100\n",
            "171/171 [==============================] - 1s 5ms/step - loss: 0.0118 - accuracy: 0.5444 - val_loss: 0.0167 - val_accuracy: 0.8571\n",
            "Epoch 32/100\n",
            "171/171 [==============================] - 1s 5ms/step - loss: 0.0118 - accuracy: 0.5474 - val_loss: 0.0117 - val_accuracy: 0.9121\n",
            "Epoch 33/100\n",
            "171/171 [==============================] - 1s 5ms/step - loss: 0.0117 - accuracy: 0.5503 - val_loss: 0.0123 - val_accuracy: 0.9341\n",
            "Epoch 34/100\n",
            "171/171 [==============================] - 1s 5ms/step - loss: 0.0118 - accuracy: 0.5456 - val_loss: 0.0095 - val_accuracy: 0.9121\n",
            "Epoch 35/100\n",
            "171/171 [==============================] - 0s 3ms/step - loss: 0.0117 - accuracy: 0.5579 - val_loss: 0.0110 - val_accuracy: 0.9341\n",
            "Epoch 36/100\n",
            "171/171 [==============================] - 0s 3ms/step - loss: 0.0116 - accuracy: 0.5509 - val_loss: 0.0118 - val_accuracy: 0.9231\n",
            "Epoch 37/100\n",
            "171/171 [==============================] - 0s 3ms/step - loss: 0.0117 - accuracy: 0.5456 - val_loss: 0.0121 - val_accuracy: 0.9231\n",
            "Epoch 38/100\n",
            "171/171 [==============================] - 0s 3ms/step - loss: 0.0115 - accuracy: 0.5532 - val_loss: 0.0108 - val_accuracy: 0.9231\n",
            "Epoch 39/100\n",
            "171/171 [==============================] - 0s 3ms/step - loss: 0.0116 - accuracy: 0.5550 - val_loss: 0.0110 - val_accuracy: 0.9231\n",
            "Epoch 40/100\n",
            "171/171 [==============================] - 0s 3ms/step - loss: 0.0115 - accuracy: 0.5544 - val_loss: 0.0106 - val_accuracy: 0.9231\n",
            "Epoch 41/100\n",
            "171/171 [==============================] - 0s 3ms/step - loss: 0.0115 - accuracy: 0.5515 - val_loss: 0.0126 - val_accuracy: 0.9231\n",
            "Epoch 42/100\n",
            "171/171 [==============================] - 0s 3ms/step - loss: 0.0115 - accuracy: 0.5573 - val_loss: 0.0126 - val_accuracy: 0.9231\n",
            "Epoch 43/100\n",
            "171/171 [==============================] - 0s 3ms/step - loss: 0.0118 - accuracy: 0.5515 - val_loss: 0.0111 - val_accuracy: 0.9341\n",
            "Epoch 44/100\n",
            "171/171 [==============================] - 0s 2ms/step - loss: 0.0117 - accuracy: 0.5538 - val_loss: 0.0112 - val_accuracy: 0.9231\n",
            "Epoch 45/100\n",
            "171/171 [==============================] - 0s 3ms/step - loss: 0.0118 - accuracy: 0.5567 - val_loss: 0.0107 - val_accuracy: 0.9231\n",
            "Epoch 46/100\n",
            "171/171 [==============================] - 0s 3ms/step - loss: 0.0110 - accuracy: 0.5556 - val_loss: 0.0120 - val_accuracy: 0.9121\n",
            "Epoch 47/100\n",
            "171/171 [==============================] - 0s 3ms/step - loss: 0.0100 - accuracy: 0.5544 - val_loss: 0.0103 - val_accuracy: 0.9231\n",
            "Epoch 48/100\n",
            "171/171 [==============================] - 0s 3ms/step - loss: 0.0097 - accuracy: 0.5450 - val_loss: 0.0103 - val_accuracy: 0.9231\n",
            "Epoch 49/100\n",
            "171/171 [==============================] - 0s 3ms/step - loss: 0.0094 - accuracy: 0.5485 - val_loss: 0.0102 - val_accuracy: 0.9231\n",
            "Epoch 50/100\n",
            "171/171 [==============================] - 0s 3ms/step - loss: 0.0094 - accuracy: 0.5409 - val_loss: 0.0099 - val_accuracy: 0.9231\n",
            "Epoch 51/100\n",
            "171/171 [==============================] - 0s 3ms/step - loss: 0.0092 - accuracy: 0.5544 - val_loss: 0.0086 - val_accuracy: 0.9121\n",
            "Epoch 52/100\n",
            "171/171 [==============================] - 0s 3ms/step - loss: 0.0093 - accuracy: 0.5550 - val_loss: 0.0097 - val_accuracy: 0.9121\n",
            "Epoch 53/100\n",
            "171/171 [==============================] - 0s 3ms/step - loss: 0.0093 - accuracy: 0.5532 - val_loss: 0.0099 - val_accuracy: 0.9011\n",
            "Epoch 54/100\n",
            "171/171 [==============================] - 0s 3ms/step - loss: 0.0094 - accuracy: 0.5509 - val_loss: 0.0099 - val_accuracy: 0.9121\n",
            "Epoch 55/100\n",
            "171/171 [==============================] - 0s 2ms/step - loss: 0.0094 - accuracy: 0.5462 - val_loss: 0.0103 - val_accuracy: 0.9011\n",
            "Epoch 56/100\n",
            "171/171 [==============================] - 0s 3ms/step - loss: 0.0094 - accuracy: 0.5585 - val_loss: 0.0094 - val_accuracy: 0.9121\n",
            "Epoch 57/100\n",
            "171/171 [==============================] - 0s 3ms/step - loss: 0.0095 - accuracy: 0.5456 - val_loss: 0.0095 - val_accuracy: 0.9121\n",
            "Epoch 58/100\n",
            "171/171 [==============================] - 0s 3ms/step - loss: 0.0095 - accuracy: 0.5480 - val_loss: 0.0093 - val_accuracy: 0.8571\n",
            "Epoch 59/100\n",
            "171/171 [==============================] - 0s 3ms/step - loss: 0.0096 - accuracy: 0.5614 - val_loss: 0.0101 - val_accuracy: 0.9121\n",
            "Epoch 60/100\n",
            "171/171 [==============================] - 0s 3ms/step - loss: 0.0093 - accuracy: 0.5532 - val_loss: 0.0094 - val_accuracy: 0.9231\n",
            "Epoch 61/100\n",
            "171/171 [==============================] - 0s 3ms/step - loss: 0.0093 - accuracy: 0.5468 - val_loss: 0.0095 - val_accuracy: 0.9011\n",
            "Epoch 62/100\n",
            "171/171 [==============================] - 0s 3ms/step - loss: 0.0092 - accuracy: 0.5515 - val_loss: 0.0107 - val_accuracy: 0.9011\n",
            "Epoch 63/100\n",
            "171/171 [==============================] - 0s 3ms/step - loss: 0.0091 - accuracy: 0.5561 - val_loss: 0.0089 - val_accuracy: 0.9011\n",
            "Epoch 64/100\n",
            "171/171 [==============================] - 0s 3ms/step - loss: 0.0092 - accuracy: 0.5620 - val_loss: 0.0095 - val_accuracy: 0.9231\n",
            "Epoch 65/100\n",
            "171/171 [==============================] - 0s 3ms/step - loss: 0.0091 - accuracy: 0.5544 - val_loss: 0.0097 - val_accuracy: 0.9011\n",
            "Epoch 66/100\n",
            "171/171 [==============================] - 0s 3ms/step - loss: 0.0090 - accuracy: 0.5596 - val_loss: 0.0099 - val_accuracy: 0.8901\n",
            "Epoch 67/100\n",
            "171/171 [==============================] - 0s 3ms/step - loss: 0.0091 - accuracy: 0.5561 - val_loss: 0.0088 - val_accuracy: 0.9121\n",
            "Epoch 68/100\n",
            "171/171 [==============================] - 0s 2ms/step - loss: 0.0091 - accuracy: 0.5591 - val_loss: 0.0090 - val_accuracy: 0.9011\n",
            "Epoch 69/100\n",
            "171/171 [==============================] - 0s 3ms/step - loss: 0.0088 - accuracy: 0.5632 - val_loss: 0.0077 - val_accuracy: 0.9121\n",
            "Epoch 70/100\n",
            "171/171 [==============================] - 0s 3ms/step - loss: 0.0087 - accuracy: 0.5813 - val_loss: 0.0085 - val_accuracy: 0.9121\n",
            "Epoch 71/100\n",
            "171/171 [==============================] - 0s 3ms/step - loss: 0.0086 - accuracy: 0.5871 - val_loss: 0.0085 - val_accuracy: 0.9121\n",
            "Epoch 72/100\n",
            "171/171 [==============================] - 0s 3ms/step - loss: 0.0085 - accuracy: 0.6018 - val_loss: 0.0073 - val_accuracy: 0.9121\n",
            "Epoch 73/100\n",
            "171/171 [==============================] - 0s 3ms/step - loss: 0.0084 - accuracy: 0.6216 - val_loss: 0.0073 - val_accuracy: 0.9011\n",
            "Epoch 74/100\n",
            "171/171 [==============================] - 1s 3ms/step - loss: 0.0083 - accuracy: 0.6392 - val_loss: 0.0077 - val_accuracy: 0.8901\n",
            "Epoch 75/100\n",
            "171/171 [==============================] - 0s 3ms/step - loss: 0.0084 - accuracy: 0.6368 - val_loss: 0.0092 - val_accuracy: 0.8901\n",
            "Epoch 76/100\n",
            "171/171 [==============================] - 0s 3ms/step - loss: 0.0085 - accuracy: 0.6696 - val_loss: 0.0073 - val_accuracy: 0.9121\n",
            "Epoch 77/100\n",
            "171/171 [==============================] - 0s 3ms/step - loss: 0.0079 - accuracy: 0.7000 - val_loss: 0.0061 - val_accuracy: 0.9121\n",
            "Epoch 78/100\n",
            "171/171 [==============================] - 0s 3ms/step - loss: 0.0077 - accuracy: 0.7193 - val_loss: 0.0060 - val_accuracy: 0.9231\n",
            "Epoch 79/100\n",
            "171/171 [==============================] - 0s 3ms/step - loss: 0.0076 - accuracy: 0.7146 - val_loss: 0.0058 - val_accuracy: 0.9231\n",
            "Epoch 80/100\n",
            "171/171 [==============================] - 0s 3ms/step - loss: 0.0074 - accuracy: 0.7152 - val_loss: 0.0062 - val_accuracy: 0.9231\n",
            "Epoch 81/100\n",
            "171/171 [==============================] - 0s 3ms/step - loss: 0.0074 - accuracy: 0.7228 - val_loss: 0.0059 - val_accuracy: 0.9231\n",
            "Epoch 82/100\n",
            "171/171 [==============================] - 0s 3ms/step - loss: 0.0074 - accuracy: 0.7234 - val_loss: 0.0059 - val_accuracy: 0.9231\n",
            "Epoch 83/100\n",
            "171/171 [==============================] - 0s 2ms/step - loss: 0.0074 - accuracy: 0.7251 - val_loss: 0.0054 - val_accuracy: 0.9121\n",
            "Epoch 84/100\n",
            "171/171 [==============================] - 0s 3ms/step - loss: 0.0073 - accuracy: 0.7211 - val_loss: 0.0057 - val_accuracy: 0.9231\n",
            "Epoch 85/100\n",
            "171/171 [==============================] - 0s 3ms/step - loss: 0.0073 - accuracy: 0.7251 - val_loss: 0.0053 - val_accuracy: 0.9341\n",
            "Epoch 86/100\n",
            "171/171 [==============================] - 0s 3ms/step - loss: 0.0072 - accuracy: 0.7181 - val_loss: 0.0053 - val_accuracy: 0.9231\n",
            "Epoch 87/100\n",
            "171/171 [==============================] - 0s 3ms/step - loss: 0.0072 - accuracy: 0.7216 - val_loss: 0.0060 - val_accuracy: 0.9341\n",
            "Epoch 88/100\n",
            "171/171 [==============================] - 0s 3ms/step - loss: 0.0072 - accuracy: 0.7193 - val_loss: 0.0054 - val_accuracy: 0.9231\n",
            "Epoch 89/100\n",
            "171/171 [==============================] - 0s 3ms/step - loss: 0.0071 - accuracy: 0.7216 - val_loss: 0.0053 - val_accuracy: 0.9121\n",
            "Epoch 90/100\n",
            "171/171 [==============================] - 0s 3ms/step - loss: 0.0072 - accuracy: 0.7246 - val_loss: 0.0053 - val_accuracy: 0.9231\n",
            "Epoch 91/100\n",
            "171/171 [==============================] - 0s 3ms/step - loss: 0.0071 - accuracy: 0.7316 - val_loss: 0.0060 - val_accuracy: 0.9121\n",
            "Epoch 92/100\n",
            "171/171 [==============================] - 0s 3ms/step - loss: 0.0071 - accuracy: 0.7310 - val_loss: 0.0052 - val_accuracy: 0.9121\n",
            "Epoch 93/100\n",
            "171/171 [==============================] - 0s 3ms/step - loss: 0.0071 - accuracy: 0.7298 - val_loss: 0.0053 - val_accuracy: 0.9231\n",
            "Epoch 94/100\n",
            "171/171 [==============================] - 0s 3ms/step - loss: 0.0071 - accuracy: 0.7316 - val_loss: 0.0050 - val_accuracy: 0.9231\n",
            "Epoch 95/100\n",
            "171/171 [==============================] - 0s 3ms/step - loss: 0.0070 - accuracy: 0.7333 - val_loss: 0.0055 - val_accuracy: 0.9121\n",
            "Epoch 96/100\n",
            "171/171 [==============================] - 0s 3ms/step - loss: 0.0070 - accuracy: 0.7287 - val_loss: 0.0052 - val_accuracy: 0.9231\n",
            "Epoch 97/100\n",
            "171/171 [==============================] - 0s 3ms/step - loss: 0.0071 - accuracy: 0.7374 - val_loss: 0.0054 - val_accuracy: 0.9231\n",
            "Epoch 98/100\n",
            "171/171 [==============================] - 0s 3ms/step - loss: 0.0071 - accuracy: 0.7275 - val_loss: 0.0052 - val_accuracy: 0.9231\n",
            "Epoch 99/100\n",
            "171/171 [==============================] - 0s 3ms/step - loss: 0.0071 - accuracy: 0.7193 - val_loss: 0.0053 - val_accuracy: 0.9231\n",
            "Epoch 100/100\n",
            "171/171 [==============================] - 0s 3ms/step - loss: 0.0070 - accuracy: 0.7304 - val_loss: 0.0051 - val_accuracy: 0.9231\n"
          ]
        },
        {
          "output_type": "execute_result",
          "data": {
            "text/plain": [
              "<keras.callbacks.History at 0x7fca183ac050>"
            ]
          },
          "metadata": {},
          "execution_count": 215
        }
      ]
    },
    {
      "cell_type": "code",
      "source": [
        "model_for_pruning_accuracy = model_for_pruning.evaluate(X_test, X_test, verbose=0)\n",
        "\n",
        "print('Baseline test accuracy:', baseline_model_accuracy) \n",
        "print('Pruned test accuracy:', model_for_pruning_accuracy)"
      ],
      "metadata": {
        "colab": {
          "base_uri": "https://localhost:8080/"
        },
        "id": "1h2OeXrNwl8x",
        "outputId": "93b7baec-ee24-4fad-b975-f62b44e2fbb7"
      },
      "execution_count": null,
      "outputs": [
        {
          "output_type": "stream",
          "name": "stdout",
          "text": [
            "Baseline test accuracy: 24.96489715576172\n",
            "Pruned test accuracy: [24.846662521362305, 0.6071110963821411]\n"
          ]
        }
      ]
    },
    {
      "cell_type": "code",
      "source": [
        "model_for_export = tfmot.sparsity.keras.strip_pruning(model_for_pruning)\n",
        "\n",
        "_, pruned_keras_file = tempfile.mkstemp('.h5')\n",
        "tf.keras.models.save_model(model_for_export, pruned_keras_file, include_optimizer=False)\n",
        "print('Saved pruned Keras model to:', pruned_keras_file)"
      ],
      "metadata": {
        "colab": {
          "base_uri": "https://localhost:8080/"
        },
        "id": "pf4ORWIrxTcT",
        "outputId": "36685ff3-a78b-46df-fe57-589eeaec6c76"
      },
      "execution_count": null,
      "outputs": [
        {
          "output_type": "stream",
          "name": "stdout",
          "text": [
            "WARNING:tensorflow:Compiled the loaded model, but the compiled metrics have yet to be built. `model.compile_metrics` will be empty until you train or evaluate the model.\n"
          ]
        },
        {
          "output_type": "stream",
          "name": "stderr",
          "text": [
            "WARNING:tensorflow:Compiled the loaded model, but the compiled metrics have yet to be built. `model.compile_metrics` will be empty until you train or evaluate the model.\n"
          ]
        },
        {
          "output_type": "stream",
          "name": "stdout",
          "text": [
            "Saved pruned Keras model to: /tmp/tmpuslg8x_k.h5\n"
          ]
        }
      ]
    },
    {
      "cell_type": "code",
      "source": [
        "converter = tf.lite.TFLiteConverter.from_keras_model(model_for_export)\n",
        "pruned_tflite_model = converter.convert()\n",
        "\n",
        "_, pruned_tflite_file = tempfile.mkstemp('.tflite')\n",
        "\n",
        "with open(pruned_tflite_file, 'wb') as f:\n",
        "  f.write(pruned_tflite_model)\n",
        "\n",
        "print('Saved pruned TFLite model to:', pruned_tflite_file)"
      ],
      "metadata": {
        "colab": {
          "base_uri": "https://localhost:8080/"
        },
        "id": "e3t9xaIkxXNF",
        "outputId": "7224b7b8-4b5c-4d83-8d96-9f3852700b6c"
      },
      "execution_count": null,
      "outputs": [
        {
          "output_type": "stream",
          "name": "stdout",
          "text": [
            "INFO:tensorflow:Assets written to: /tmp/tmpsikgiaem/assets\n"
          ]
        },
        {
          "output_type": "stream",
          "name": "stderr",
          "text": [
            "INFO:tensorflow:Assets written to: /tmp/tmpsikgiaem/assets\n",
            "WARNING:absl:Buffer deduplication procedure will be skipped when flatbuffer library is not properly loaded\n"
          ]
        },
        {
          "output_type": "stream",
          "name": "stdout",
          "text": [
            "Saved pruned TFLite model to: /tmp/tmpr6tgqasu.tflite\n"
          ]
        }
      ]
    },
    {
      "cell_type": "code",
      "source": [
        "def get_gzipped_model_size(file):\n",
        "  # Returns size of gzipped model, in bytes.\n",
        "  import os\n",
        "  import zipfile\n",
        "\n",
        "  _, zipped_file = tempfile.mkstemp('.zip')\n",
        "  with zipfile.ZipFile(zipped_file, 'w', compression=zipfile.ZIP_DEFLATED) as f:\n",
        "    f.write(file)\n",
        "\n",
        "  return os.path.getsize(zipped_file)"
      ],
      "metadata": {
        "id": "PYTcx1yPxZ9z"
      },
      "execution_count": null,
      "outputs": []
    },
    {
      "cell_type": "code",
      "source": [
        "print(\"Size of gzipped baseline Keras model: %.2f bytes\" % (get_gzipped_model_size(keras_file)))\n",
        "print(\"Size of gzipped pruned Keras model: %.2f bytes\" % (get_gzipped_model_size(pruned_keras_file)))\n",
        "print(\"Size of gzipped pruned TFlite model: %.2f bytes\" % (get_gzipped_model_size(pruned_tflite_file)))"
      ],
      "metadata": {
        "colab": {
          "base_uri": "https://localhost:8080/"
        },
        "id": "VVmuMhK-xcI7",
        "outputId": "fa8c077e-7887-4fd1-b3bf-e9e33b458f85"
      },
      "execution_count": null,
      "outputs": [
        {
          "output_type": "stream",
          "name": "stdout",
          "text": [
            "Size of gzipped baseline Keras model: 7212.00 bytes\n",
            "Size of gzipped pruned Keras model: 4014.00 bytes\n",
            "Size of gzipped pruned TFlite model: 3057.00 bytes\n"
          ]
        }
      ]
    },
    {
      "cell_type": "code",
      "source": [
        "# Create a 10x smaller model from combining pruning and quantization\n",
        "# You can apply post-training quantization to the pruned model for additional benefits.\n",
        "converter = tf.lite.TFLiteConverter.from_keras_model(model_for_export)\n",
        "converter.optimizations = [tf.lite.Optimize.DEFAULT]\n",
        "quantized_and_pruned_tflite_model = converter.convert()\n",
        "\n",
        "_, quantized_and_pruned_tflite_file = tempfile.mkstemp('.tflite')\n",
        "\n",
        "with open(quantized_and_pruned_tflite_file, 'wb') as f:\n",
        "  f.write(quantized_and_pruned_tflite_model)\n",
        "\n",
        "print('Saved quantized and pruned TFLite model to:', quantized_and_pruned_tflite_file)\n",
        "\n",
        "print(\"Size of gzipped baseline Keras model: %.2f bytes\" % (get_gzipped_model_size(keras_file)))\n",
        "print(\"Size of gzipped pruned and quantized TFlite model: %.2f bytes\" % (get_gzipped_model_size(quantized_and_pruned_tflite_file)))"
      ],
      "metadata": {
        "colab": {
          "base_uri": "https://localhost:8080/"
        },
        "id": "UtR5mNwDxy3q",
        "outputId": "9a9d75dc-5844-483a-f67a-326b2cfac930"
      },
      "execution_count": null,
      "outputs": [
        {
          "output_type": "stream",
          "name": "stdout",
          "text": [
            "INFO:tensorflow:Assets written to: /tmp/tmpixa__m34/assets\n"
          ]
        },
        {
          "output_type": "stream",
          "name": "stderr",
          "text": [
            "INFO:tensorflow:Assets written to: /tmp/tmpixa__m34/assets\n",
            "WARNING:absl:Buffer deduplication procedure will be skipped when flatbuffer library is not properly loaded\n"
          ]
        },
        {
          "output_type": "stream",
          "name": "stdout",
          "text": [
            "Saved quantized and pruned TFLite model to: /tmp/tmp20gwuawc.tflite\n",
            "Size of gzipped baseline Keras model: 7212.00 bytes\n",
            "Size of gzipped pruned and quantized TFlite model: 3021.00 bytes\n"
          ]
        }
      ]
    },
    {
      "cell_type": "code",
      "source": [
        "model_for_pruning.summary()"
      ],
      "metadata": {
        "colab": {
          "base_uri": "https://localhost:8080/"
        },
        "id": "sEdjoSKZ6r5w",
        "outputId": "918e092c-6cef-4aad-d0cb-e0882cd1d2c9"
      },
      "execution_count": null,
      "outputs": [
        {
          "output_type": "stream",
          "name": "stdout",
          "text": [
            "Model: \"sequential_2\"\n",
            "_________________________________________________________________\n",
            " Layer (type)                Output Shape              Param #   \n",
            "=================================================================\n",
            " prune_low_magnitude_dense_1  (None, 30)               272       \n",
            " 1 (PruneLowMagnitude)                                           \n",
            "                                                                 \n",
            " prune_low_magnitude_dense_1  (None, 2)                124       \n",
            " 2 (PruneLowMagnitude)                                           \n",
            "                                                                 \n",
            " prune_low_magnitude_dense_1  (None, 30)               152       \n",
            " 3 (PruneLowMagnitude)                                           \n",
            "                                                                 \n",
            " prune_low_magnitude_dense_1  (None, 30)               1832      \n",
            " 4 (PruneLowMagnitude)                                           \n",
            "                                                                 \n",
            " prune_low_magnitude_dense_1  (None, 4)                246       \n",
            " 5 (PruneLowMagnitude)                                           \n",
            "                                                                 \n",
            "=================================================================\n",
            "Total params: 2,626\n",
            "Trainable params: 1,356\n",
            "Non-trainable params: 1,270\n",
            "_________________________________________________________________\n"
          ]
        }
      ]
    },
    {
      "cell_type": "code",
      "source": [
        "X_pred_prun = model_for_pruning.predict(np.array(X_test))\n",
        "X_pred_prun = pd.DataFrame(X_pred_prun, columns=X_test.columns)\n",
        "X_pred_prun.index = X_test.index\n",
        "\n",
        "scored_prun = pd.DataFrame(index=X_test.index)\n",
        "scored_prun['Loss_mae'] = np.mean(np.abs(X_pred_prun-X_test), axis = 1)\n",
        "scored_prun['Threshold'] = 0.25\n",
        "scored_prun['Anomaly'] = scored_prun['Loss_mae'] > scored_prun['Threshold']\n",
        "scored_prun['Loss_mae'] = np.mean(np.abs(X_pred_prun-X_test), axis = 1)\n",
        "scored_prun.plot(logy= True , figsize = (10,6), ylim = [1e-2,1e2], color = ['blue','red'])"
      ],
      "metadata": {
        "colab": {
          "base_uri": "https://localhost:8080/"
        },
        "id": "3SbwOFKD4CRw",
        "outputId": "bd8df236-e470-4a84-97a6-80650c35aeed"
      },
      "execution_count": null,
      "outputs": [
        {
          "output_type": "execute_result",
          "data": {
            "text/plain": [
              "<matplotlib.axes._subplots.AxesSubplot at 0x7fca17992e90>"
            ]
          },
          "metadata": {},
          "execution_count": 223
        },
        {
          "output_type": "display_data",
          "data": {
            "text/plain": [
              "<Figure size 720x432 with 1 Axes>"
            ],
            "image/png": "[encoded data removed]"
          },
          "metadata": {
            "needs_background": "light"
          }
        }
      ]
    },
    {
      "cell_type": "code",
      "source": [
        "X_pred_train_prun = model_for_pruning.predict(np.array(X_train))\n",
        "X_pred_train_prun = pd.DataFrame(X_pred_train_prun, columns=X_train.columns)\n",
        "X_pred_train_prun.index = X_train.index\n",
        "\n",
        "scored_train_prun = pd.DataFrame(index=X_train.index)\n",
        "scored_train_prun['Loss_mae'] = np.mean(np.abs(X_pred_train_prun-X_train), axis = 1)\n",
        "scored_train_prun['Threshold'] = 0.25\n",
        "scored_train_prun['Anomaly'] = scored_train_prun['Loss_mae'] > scored_train_prun['Threshold']\n",
        "scored_prun = pd.concat([scored_train_prun, scored_prun])\n",
        "scored_prun.plot(logy= True , figsize = (15,6), ylim = [1e-2,1e2], color = ['blue','red'])"
      ],
      "metadata": {
        "colab": {
          "base_uri": "https://localhost:8080/"
        },
        "id": "v3yVgTraBVpw",
        "outputId": "6e469283-e22e-49b6-c7b6-8bec67832dac"
      },
      "execution_count": null,
      "outputs": [
        {
          "output_type": "execute_result",
          "data": {
            "text/plain": [
              "<matplotlib.axes._subplots.AxesSubplot at 0x7fca194f6890>"
            ]
          },
          "metadata": {},
          "execution_count": 224
        },
        {
          "output_type": "display_data",
          "data": {
            "text/plain": [
              "<Figure size 1080x432 with 1 Axes>"
            ],
            "image/png": "[encoded data removed]"
          },
          "metadata": {
            "needs_background": "light"
          }
        }
      ]
    },
    {
      "cell_type": "markdown",
      "source": [
        "### **Weight clustering in Keras**"
      ],
      "metadata": {
        "id": "hPdYTKXg1U9j"
      }
    },
    {
      "cell_type": "code",
      "source": [
        "import tensorflow_model_optimization as tfmot\n",
        "\n",
        "cluster_weights = tfmot.clustering.keras.cluster_weights\n",
        "CentroidInitialization = tfmot.clustering.keras.CentroidInitialization\n",
        "\n",
        "clustering_params = {\n",
        "  'number_of_clusters': 4,\n",
        "  'cluster_centroids_init': CentroidInitialization.LINEAR\n",
        "}\n",
        "\n",
        "# Cluster a whole model\n",
        "clustered_model = cluster_weights(model, **clustering_params)\n",
        "\n",
        "# Use smaller learning rate for fine-tuning clustered model\n",
        "opt = tf.keras.optimizers.Adam(learning_rate=1e-5)\n",
        "\n",
        "clustered_model.compile(\n",
        "  loss='mse',\n",
        "  optimizer='adam')\n",
        "\n",
        "clustered_model.summary()"
      ],
      "metadata": {
        "colab": {
          "base_uri": "https://localhost:8080/"
        },
        "id": "hMpSrxF_1Xoy",
        "outputId": "5c317664-c313-4573-c37f-d335aeb850f5"
      },
      "execution_count": null,
      "outputs": [
        {
          "output_type": "stream",
          "name": "stdout",
          "text": [
            "Model: \"sequential_2\"\n",
            "_________________________________________________________________\n",
            " Layer (type)                Output Shape              Param #   \n",
            "=================================================================\n",
            " cluster_dense_11 (ClusterWe  (None, 30)               274       \n",
            " ights)                                                          \n",
            "                                                                 \n",
            " cluster_dense_12 (ClusterWe  (None, 2)                126       \n",
            " ights)                                                          \n",
            "                                                                 \n",
            " cluster_dense_13 (ClusterWe  (None, 30)               154       \n",
            " ights)                                                          \n",
            "                                                                 \n",
            " cluster_dense_14 (ClusterWe  (None, 30)               1834      \n",
            " ights)                                                          \n",
            "                                                                 \n",
            " cluster_dense_15 (ClusterWe  (None, 4)                248       \n",
            " ights)                                                          \n",
            "                                                                 \n",
            "=================================================================\n",
            "Total params: 2,636\n",
            "Trainable params: 1,376\n",
            "Non-trainable params: 1,260\n",
            "_________________________________________________________________\n"
          ]
        }
      ]
    },
    {
      "cell_type": "code",
      "source": [
        "# Fine-tune model\n",
        "clustered_model.fit(\n",
        "  X_train,\n",
        "  X_train,\n",
        "  batch_size=10,\n",
        "  epochs=100,\n",
        "  validation_split=0.05)"
      ],
      "metadata": {
        "colab": {
          "base_uri": "https://localhost:8080/"
        },
        "id": "abMXcIDk1eNR",
        "outputId": "34aa9424-9cb6-4687-d40b-9e6a5e5024e3"
      },
      "execution_count": null,
      "outputs": [
        {
          "output_type": "stream",
          "name": "stdout",
          "text": [
            "Epoch 1/100\n",
            "171/171 [==============================] - 2s 4ms/step - loss: 0.0284 - val_loss: 0.0190\n",
            "Epoch 2/100\n",
            "171/171 [==============================] - 1s 3ms/step - loss: 0.0769 - val_loss: 0.0472\n",
            "Epoch 3/100\n",
            "171/171 [==============================] - 0s 3ms/step - loss: 0.0233 - val_loss: 0.0152\n",
            "Epoch 4/100\n",
            "171/171 [==============================] - 1s 3ms/step - loss: 0.0135 - val_loss: 0.0186\n",
            "Epoch 5/100\n",
            "171/171 [==============================] - 1s 3ms/step - loss: 0.0124 - val_loss: 0.0138\n",
            "Epoch 6/100\n",
            "171/171 [==============================] - 1s 3ms/step - loss: 0.0129 - val_loss: 0.0137\n",
            "Epoch 7/100\n",
            "171/171 [==============================] - 1s 3ms/step - loss: 0.0122 - val_loss: 0.0142\n",
            "Epoch 8/100\n",
            "171/171 [==============================] - 1s 3ms/step - loss: 0.0114 - val_loss: 0.0131\n",
            "Epoch 9/100\n",
            "171/171 [==============================] - 1s 3ms/step - loss: 0.0105 - val_loss: 0.0111\n",
            "Epoch 10/100\n",
            "171/171 [==============================] - 1s 3ms/step - loss: 0.0104 - val_loss: 0.0100\n",
            "Epoch 11/100\n",
            "171/171 [==============================] - 1s 3ms/step - loss: 0.0123 - val_loss: 0.0146\n",
            "Epoch 12/100\n",
            "171/171 [==============================] - 0s 3ms/step - loss: 0.0112 - val_loss: 0.0135\n",
            "Epoch 13/100\n",
            "171/171 [==============================] - 1s 3ms/step - loss: 0.0112 - val_loss: 0.0163\n",
            "Epoch 14/100\n",
            "171/171 [==============================] - 1s 3ms/step - loss: 0.0106 - val_loss: 0.0118\n",
            "Epoch 15/100\n",
            "171/171 [==============================] - 1s 3ms/step - loss: 0.0102 - val_loss: 0.0136\n",
            "Epoch 16/100\n",
            "171/171 [==============================] - 1s 3ms/step - loss: 0.0102 - val_loss: 0.0108\n",
            "Epoch 17/100\n",
            "171/171 [==============================] - 1s 3ms/step - loss: 0.0098 - val_loss: 0.0101\n",
            "Epoch 18/100\n",
            "171/171 [==============================] - 1s 3ms/step - loss: 0.0110 - val_loss: 0.0131\n",
            "Epoch 19/100\n",
            "171/171 [==============================] - 1s 3ms/step - loss: 0.0108 - val_loss: 0.0114\n",
            "Epoch 20/100\n",
            "171/171 [==============================] - 0s 3ms/step - loss: 0.0103 - val_loss: 0.0105\n",
            "Epoch 21/100\n",
            "171/171 [==============================] - 1s 3ms/step - loss: 0.0093 - val_loss: 0.0101\n",
            "Epoch 22/100\n",
            "171/171 [==============================] - 1s 3ms/step - loss: 0.0087 - val_loss: 0.0121\n",
            "Epoch 23/100\n",
            "171/171 [==============================] - 1s 3ms/step - loss: 0.0101 - val_loss: 0.0135\n",
            "Epoch 24/100\n",
            "171/171 [==============================] - 0s 3ms/step - loss: 0.0096 - val_loss: 0.0131\n",
            "Epoch 25/100\n",
            "171/171 [==============================] - 0s 3ms/step - loss: 0.0092 - val_loss: 0.0085\n",
            "Epoch 26/100\n",
            "171/171 [==============================] - 0s 3ms/step - loss: 0.0090 - val_loss: 0.0152\n",
            "Epoch 27/100\n",
            "171/171 [==============================] - 1s 3ms/step - loss: 0.0109 - val_loss: 0.0137\n",
            "Epoch 28/100\n",
            "171/171 [==============================] - 1s 3ms/step - loss: 0.0098 - val_loss: 0.0093\n",
            "Epoch 29/100\n",
            "171/171 [==============================] - 1s 3ms/step - loss: 0.0100 - val_loss: 0.0117\n",
            "Epoch 30/100\n",
            "171/171 [==============================] - 1s 3ms/step - loss: 0.0097 - val_loss: 0.0119\n",
            "Epoch 31/100\n",
            "171/171 [==============================] - 0s 3ms/step - loss: 0.0100 - val_loss: 0.0115\n",
            "Epoch 32/100\n",
            "171/171 [==============================] - 0s 3ms/step - loss: 0.0093 - val_loss: 0.0108\n",
            "Epoch 33/100\n",
            "171/171 [==============================] - 0s 3ms/step - loss: 0.0088 - val_loss: 0.0092\n",
            "Epoch 34/100\n",
            "171/171 [==============================] - 0s 3ms/step - loss: 0.0091 - val_loss: 0.0102\n",
            "Epoch 35/100\n",
            "171/171 [==============================] - 1s 3ms/step - loss: 0.0093 - val_loss: 0.0130\n",
            "Epoch 36/100\n",
            "171/171 [==============================] - 1s 3ms/step - loss: 0.0091 - val_loss: 0.0141\n",
            "Epoch 37/100\n",
            "171/171 [==============================] - 1s 3ms/step - loss: 0.0090 - val_loss: 0.0109\n",
            "Epoch 38/100\n",
            "171/171 [==============================] - 0s 3ms/step - loss: 0.0074 - val_loss: 0.0085\n",
            "Epoch 39/100\n",
            "171/171 [==============================] - 0s 3ms/step - loss: 0.0070 - val_loss: 0.0127\n",
            "Epoch 40/100\n",
            "171/171 [==============================] - 0s 3ms/step - loss: 0.0076 - val_loss: 0.0101\n",
            "Epoch 41/100\n",
            "171/171 [==============================] - 0s 3ms/step - loss: 0.0078 - val_loss: 0.0086\n",
            "Epoch 42/100\n",
            "171/171 [==============================] - 1s 3ms/step - loss: 0.0075 - val_loss: 0.0088\n",
            "Epoch 43/100\n",
            "171/171 [==============================] - 1s 3ms/step - loss: 0.0083 - val_loss: 0.0104\n",
            "Epoch 44/100\n",
            "171/171 [==============================] - 1s 3ms/step - loss: 0.0088 - val_loss: 0.0094\n",
            "Epoch 45/100\n",
            "171/171 [==============================] - 1s 3ms/step - loss: 0.0078 - val_loss: 0.0096\n",
            "Epoch 46/100\n",
            "171/171 [==============================] - 1s 3ms/step - loss: 0.0079 - val_loss: 0.0097\n",
            "Epoch 47/100\n",
            "171/171 [==============================] - 0s 3ms/step - loss: 0.0078 - val_loss: 0.0103\n",
            "Epoch 48/100\n",
            "171/171 [==============================] - 0s 3ms/step - loss: 0.0071 - val_loss: 0.0099\n",
            "Epoch 49/100\n",
            "171/171 [==============================] - 1s 3ms/step - loss: 0.0070 - val_loss: 0.0084\n",
            "Epoch 50/100\n",
            "171/171 [==============================] - 1s 3ms/step - loss: 0.0073 - val_loss: 0.0090\n",
            "Epoch 51/100\n",
            "171/171 [==============================] - 0s 3ms/step - loss: 0.0073 - val_loss: 0.0075\n",
            "Epoch 52/100\n",
            "171/171 [==============================] - 0s 3ms/step - loss: 0.0070 - val_loss: 0.0070\n",
            "Epoch 53/100\n",
            "171/171 [==============================] - 1s 3ms/step - loss: 0.0072 - val_loss: 0.0084\n",
            "Epoch 54/100\n",
            "171/171 [==============================] - 0s 3ms/step - loss: 0.0077 - val_loss: 0.0077\n",
            "Epoch 55/100\n",
            "171/171 [==============================] - 1s 3ms/step - loss: 0.0074 - val_loss: 0.0075\n",
            "Epoch 56/100\n",
            "171/171 [==============================] - 1s 3ms/step - loss: 0.0067 - val_loss: 0.0068\n",
            "Epoch 57/100\n",
            "171/171 [==============================] - 1s 3ms/step - loss: 0.0064 - val_loss: 0.0102\n",
            "Epoch 58/100\n",
            "171/171 [==============================] - 0s 3ms/step - loss: 0.0071 - val_loss: 0.0170\n",
            "Epoch 59/100\n",
            "171/171 [==============================] - 1s 3ms/step - loss: 0.0074 - val_loss: 0.0097\n",
            "Epoch 60/100\n",
            "171/171 [==============================] - 0s 3ms/step - loss: 0.0071 - val_loss: 0.0088\n",
            "Epoch 61/100\n",
            "171/171 [==============================] - 1s 3ms/step - loss: 0.0068 - val_loss: 0.0059\n",
            "Epoch 62/100\n",
            "171/171 [==============================] - 1s 3ms/step - loss: 0.0068 - val_loss: 0.0078\n",
            "Epoch 63/100\n",
            "171/171 [==============================] - 2s 10ms/step - loss: 0.0067 - val_loss: 0.0071\n",
            "Epoch 64/100\n",
            "171/171 [==============================] - 1s 7ms/step - loss: 0.0067 - val_loss: 0.0072\n",
            "Epoch 65/100\n",
            "171/171 [==============================] - 1s 6ms/step - loss: 0.0067 - val_loss: 0.0079\n",
            "Epoch 66/100\n",
            "171/171 [==============================] - 2s 9ms/step - loss: 0.0063 - val_loss: 0.0074\n",
            "Epoch 67/100\n",
            "171/171 [==============================] - 1s 3ms/step - loss: 0.0063 - val_loss: 0.0073\n",
            "Epoch 68/100\n",
            "171/171 [==============================] - 1s 3ms/step - loss: 0.0063 - val_loss: 0.0071\n",
            "Epoch 69/100\n",
            "171/171 [==============================] - 0s 3ms/step - loss: 0.0064 - val_loss: 0.0072\n",
            "Epoch 70/100\n",
            "171/171 [==============================] - 1s 3ms/step - loss: 0.0065 - val_loss: 0.0074\n",
            "Epoch 71/100\n",
            "171/171 [==============================] - 1s 3ms/step - loss: 0.0077 - val_loss: 0.0147\n",
            "Epoch 72/100\n",
            "171/171 [==============================] - 1s 3ms/step - loss: 0.0088 - val_loss: 0.0072\n",
            "Epoch 73/100\n",
            "171/171 [==============================] - 1s 3ms/step - loss: 0.0073 - val_loss: 0.0058\n",
            "Epoch 74/100\n",
            "171/171 [==============================] - 1s 3ms/step - loss: 0.0066 - val_loss: 0.0067\n",
            "Epoch 75/100\n",
            "171/171 [==============================] - 1s 3ms/step - loss: 0.0070 - val_loss: 0.0089\n",
            "Epoch 76/100\n",
            "171/171 [==============================] - 1s 3ms/step - loss: 0.0077 - val_loss: 0.0083\n",
            "Epoch 77/100\n",
            "171/171 [==============================] - 1s 3ms/step - loss: 0.0073 - val_loss: 0.0100\n",
            "Epoch 78/100\n",
            "171/171 [==============================] - 1s 3ms/step - loss: 0.0079 - val_loss: 0.0081\n",
            "Epoch 79/100\n",
            "171/171 [==============================] - 0s 3ms/step - loss: 0.0072 - val_loss: 0.0086\n",
            "Epoch 80/100\n",
            "171/171 [==============================] - 1s 3ms/step - loss: 0.0072 - val_loss: 0.0085\n",
            "Epoch 81/100\n",
            "171/171 [==============================] - 1s 3ms/step - loss: 0.0076 - val_loss: 0.0061\n",
            "Epoch 82/100\n",
            "171/171 [==============================] - 1s 3ms/step - loss: 0.0074 - val_loss: 0.0110\n",
            "Epoch 83/100\n",
            "171/171 [==============================] - 0s 3ms/step - loss: 0.0069 - val_loss: 0.0073\n",
            "Epoch 84/100\n",
            "171/171 [==============================] - 1s 3ms/step - loss: 0.0067 - val_loss: 0.0106\n",
            "Epoch 85/100\n",
            "171/171 [==============================] - 1s 3ms/step - loss: 0.0065 - val_loss: 0.0074\n",
            "Epoch 86/100\n",
            "171/171 [==============================] - 1s 3ms/step - loss: 0.0066 - val_loss: 0.0098\n",
            "Epoch 87/100\n",
            "171/171 [==============================] - 1s 3ms/step - loss: 0.0065 - val_loss: 0.0069\n",
            "Epoch 88/100\n",
            "171/171 [==============================] - 1s 3ms/step - loss: 0.0066 - val_loss: 0.0096\n",
            "Epoch 89/100\n",
            "171/171 [==============================] - 0s 3ms/step - loss: 0.0071 - val_loss: 0.0095\n",
            "Epoch 90/100\n",
            "171/171 [==============================] - 1s 3ms/step - loss: 0.0072 - val_loss: 0.0077\n",
            "Epoch 91/100\n",
            "171/171 [==============================] - 0s 3ms/step - loss: 0.0073 - val_loss: 0.0080\n",
            "Epoch 92/100\n",
            "171/171 [==============================] - 0s 3ms/step - loss: 0.0068 - val_loss: 0.0063\n",
            "Epoch 93/100\n",
            "171/171 [==============================] - 1s 3ms/step - loss: 0.0061 - val_loss: 0.0062\n",
            "Epoch 94/100\n",
            "171/171 [==============================] - 1s 3ms/step - loss: 0.0068 - val_loss: 0.0102\n",
            "Epoch 95/100\n",
            "171/171 [==============================] - 1s 3ms/step - loss: 0.0067 - val_loss: 0.0096\n",
            "Epoch 96/100\n",
            "171/171 [==============================] - 1s 3ms/step - loss: 0.0067 - val_loss: 0.0092\n",
            "Epoch 97/100\n",
            "171/171 [==============================] - 0s 3ms/step - loss: 0.0068 - val_loss: 0.0087\n",
            "Epoch 98/100\n",
            "171/171 [==============================] - 1s 3ms/step - loss: 0.0066 - val_loss: 0.0106\n",
            "Epoch 99/100\n",
            "171/171 [==============================] - 1s 3ms/step - loss: 0.0068 - val_loss: 0.0075\n",
            "Epoch 100/100\n",
            "171/171 [==============================] - 1s 3ms/step - loss: 0.0067 - val_loss: 0.0077\n"
          ]
        },
        {
          "output_type": "execute_result",
          "data": {
            "text/plain": [
              "<keras.callbacks.History at 0x7fca1026b9d0>"
            ]
          },
          "metadata": {},
          "execution_count": 226
        }
      ]
    },
    {
      "cell_type": "code",
      "source": [
        "final_model = tfmot.clustering.keras.strip_clustering(clustered_model)\n",
        "\n",
        "_, clustered_keras_file = tempfile.mkstemp('.h5')\n",
        "print('Saving clustered model to: ', clustered_keras_file)\n",
        "tf.keras.models.save_model(final_model, clustered_keras_file, \n",
        "                           include_optimizer=False)"
      ],
      "metadata": {
        "colab": {
          "base_uri": "https://localhost:8080/"
        },
        "id": "BeaKAaSI-DRB",
        "outputId": "bcfceff7-8b12-4d39-849a-396863d7e211"
      },
      "execution_count": null,
      "outputs": [
        {
          "output_type": "stream",
          "name": "stdout",
          "text": [
            "Saving clustered model to:  /tmp/tmpmr5m2efe.h5\n",
            "WARNING:tensorflow:Compiled the loaded model, but the compiled metrics have yet to be built. `model.compile_metrics` will be empty until you train or evaluate the model.\n"
          ]
        },
        {
          "output_type": "stream",
          "name": "stderr",
          "text": [
            "WARNING:tensorflow:Compiled the loaded model, but the compiled metrics have yet to be built. `model.compile_metrics` will be empty until you train or evaluate the model.\n"
          ]
        }
      ]
    },
    {
      "cell_type": "code",
      "source": [
        "clustered_tflite_file = '/tmp/clustered_mnist.tflite'\n",
        "converter = tf.lite.TFLiteConverter.from_keras_model(final_model)\n",
        "tflite_clustered_model = converter.convert()\n",
        "with open(clustered_tflite_file, 'wb') as f:\n",
        "  f.write(tflite_clustered_model)\n",
        "print('Saved clustered TFLite model to:', clustered_tflite_file)"
      ],
      "metadata": {
        "colab": {
          "base_uri": "https://localhost:8080/"
        },
        "id": "aOmx9o3T-HHf",
        "outputId": "debf4d0a-151f-42b5-c3fe-b18639705834"
      },
      "execution_count": null,
      "outputs": [
        {
          "output_type": "stream",
          "name": "stdout",
          "text": [
            "INFO:tensorflow:Assets written to: /tmp/tmpi2036usz/assets\n"
          ]
        },
        {
          "output_type": "stream",
          "name": "stderr",
          "text": [
            "INFO:tensorflow:Assets written to: /tmp/tmpi2036usz/assets\n",
            "WARNING:absl:Buffer deduplication procedure will be skipped when flatbuffer library is not properly loaded\n"
          ]
        },
        {
          "output_type": "stream",
          "name": "stdout",
          "text": [
            "Saved clustered TFLite model to: /tmp/clustered_mnist.tflite\n"
          ]
        }
      ]
    },
    {
      "cell_type": "code",
      "source": [
        "def get_gzipped_model_size(file):\n",
        "  # It returns the size of the gzipped model in bytes.\n",
        "  import os\n",
        "  import zipfile\n",
        "\n",
        "  _, zipped_file = tempfile.mkstemp('.zip')\n",
        "  with zipfile.ZipFile(zipped_file, 'w', compression=zipfile.ZIP_DEFLATED) as f:\n",
        "    f.write(file)\n",
        "    print('Saved clustered TFLite model to:', zipped_file)\n",
        "  return os.path.getsize(zipped_file)"
      ],
      "metadata": {
        "id": "qYn2bl0s-LOB"
      },
      "execution_count": null,
      "outputs": []
    },
    {
      "cell_type": "code",
      "source": [
        "print(\"Size of gzipped baseline Keras model: %.2f bytes\" % (get_gzipped_model_size(keras_file)))\n",
        "print(\"Size of gzipped clustered Keras model: %.2f bytes\" % (get_gzipped_model_size(clustered_keras_file)))\n",
        "print(\"Size of gzipped clustered TFlite model: %.2f bytes\" % (get_gzipped_model_size(clustered_tflite_file)))\n"
      ],
      "metadata": {
        "colab": {
          "base_uri": "https://localhost:8080/"
        },
        "id": "HZ555VrH-NgQ",
        "outputId": "559831ca-eb9c-4545-9bb9-013654c3b1c7"
      },
      "execution_count": null,
      "outputs": [
        {
          "output_type": "stream",
          "name": "stdout",
          "text": [
            "Saved clustered TFLite model to: /tmp/tmpb_sfs6im.zip\n",
            "Size of gzipped baseline Keras model: 7212.00 bytes\n",
            "Saved clustered TFLite model to: /tmp/tmpbh50x42z.zip\n",
            "Size of gzipped clustered Keras model: 2634.00 bytes\n",
            "Saved clustered TFLite model to: /tmp/tmpk5jb4lry.zip\n",
            "Size of gzipped clustered TFlite model: 1985.00 bytes\n"
          ]
        }
      ]
    },
    {
      "cell_type": "code",
      "source": [
        "print(\"Size of gzipped MODEL_TF: %.2f bytes\" % (get_gzipped_model_size(MODEL_TF)))\n",
        "print(\"Size of gzipped MODEL_NO_QUANT_TFLITE: %.2f bytes\" % (get_gzipped_model_size(MODEL_NO_QUANT_TFLITE)))\n",
        "print(\"Size of gzipped clustered TFlite model: %.2f bytes\" % (get_gzipped_model_size(MODEL_PTQ_TFLITE)))\n",
        "print(\"Size of gzipped clustered TFlite model: %.2f bytes\" % (get_gzipped_model_size(MODEL_QAT_TFLITE)))\n"
      ],
      "metadata": {
        "id": "3tJd9A6JKZ2u",
        "colab": {
          "base_uri": "https://localhost:8080/"
        },
        "outputId": "110bb692-c875-4852-e3f7-01b387b2b026"
      },
      "execution_count": null,
      "outputs": [
        {
          "output_type": "stream",
          "name": "stdout",
          "text": [
            "Saved clustered TFLite model to: /tmp/tmpq3kw7aot.zip\n",
            "Size of gzipped MODEL_TF: 124.00 bytes\n",
            "Saved clustered TFLite model to: /tmp/tmpxi2k9e83.zip\n",
            "Size of gzipped MODEL_NO_QUANT_TFLITE: 6203.00 bytes\n",
            "Saved clustered TFLite model to: /tmp/tmpa7ppc7gq.zip\n",
            "Size of gzipped clustered TFlite model: 2709.00 bytes\n",
            "Saved clustered TFLite model to: /tmp/tmpvpgfo8ql.zip\n",
            "Size of gzipped clustered TFlite model: 2829.00 bytes\n"
          ]
        }
      ]
    },
    {
      "cell_type": "code",
      "source": [
        "X_pred_clus = clustered_model.predict(np.array(X_test))\n",
        "X_pred_clus = pd.DataFrame(X_pred_clus, columns=X_test.columns)\n",
        "X_pred_clus.index = X_test.index\n",
        "\n",
        "scored_clus = pd.DataFrame(index=X_test.index)\n",
        "scored_clus['Loss_mae'] = np.mean(np.abs(X_pred_clus-X_test), axis = 1)\n",
        "scored_clus['Threshold'] = 0.25\n",
        "scored_clus['Anomaly'] = scored_clus['Loss_mae'] > scored_clus['Threshold']\n",
        "scored_clus['Loss_mae'] = np.mean(np.abs(X_pred_clus-X_test), axis = 1)\n",
        "scored_clus.plot(logy= True , figsize = (10,6), ylim = [1e-2,1e2], color = ['blue','red'])"
      ],
      "metadata": {
        "colab": {
          "base_uri": "https://localhost:8080/"
        },
        "id": "tNtlArTS3ltA",
        "outputId": "ac4cce70-2e79-40a6-acbd-648f342e1af4"
      },
      "execution_count": null,
      "outputs": [
        {
          "output_type": "execute_result",
          "data": {
            "text/plain": [
              "<matplotlib.axes._subplots.AxesSubplot at 0x7fca16e13850>"
            ]
          },
          "metadata": {},
          "execution_count": 232
        },
        {
          "output_type": "display_data",
          "data": {
            "text/plain": [
              "<Figure size 720x432 with 1 Axes>"
            ],
            "image/png": "[encoded data removed]"
          },
          "metadata": {
            "needs_background": "light"
          }
        }
      ]
    },
    {
      "cell_type": "code",
      "source": [
        "# Calculate size\n",
        "size_tf = os.path.getsize(MODEL_TF)\n",
        "size_no_quant_tflite = os.path.getsize(MODEL_NO_QUANT_TFLITE)\n",
        "size_ptq_tflite = os.path.getsize(MODEL_PTQ_TFLITE)\n",
        "size_qat_tflite = os.path.getsize(MODEL_QAT_TFLITE)\n",
        "size_pru_tflite = os.path.getsize(quantized_and_pruned_tflite_file)\n",
        "size_clus_tflite = os.path.getsize(clustered_tflite_file)\n",
        "print(f'TF Model Size = {size_tf} kB')\n",
        "print(f'TF Lite No Quant Model Size = {size_no_quant_tflite} kB')\n",
        "print(f'TF Lite Post-Training Int Quantization Model Size = {size_ptq_tflite} kB')\n",
        "print(f'TF Lite Quantization Aware Training Model Size = {size_qat_tflite} kB')\n",
        "print(f'TF Lite Pruning Training Model Size = {size_pru_tflite} kB')\n",
        "print(f'TF Lite Weight Clustering Training Model Size = {size_clus_tflite} kB')"
      ],
      "metadata": {
        "colab": {
          "base_uri": "https://localhost:8080/"
        },
        "id": "qATVrj2OHDyw",
        "outputId": "be8aa51d-cd52-423e-a388-d4a364bc64c5"
      },
      "execution_count": null,
      "outputs": [
        {
          "output_type": "stream",
          "name": "stdout",
          "text": [
            "TF Model Size = 4096 kB\n",
            "TF Lite No Quant Model Size = 8016 kB\n",
            "TF Lite Post-Training Int Quantization Model Size = 4608 kB\n",
            "TF Lite Quantization Aware Training Model Size = 5544 kB\n",
            "TF Lite Pruning Training Model Size = 8016 kB\n",
            "TF Lite Weight Clustering Training Model Size = 7804 kB\n"
          ]
        }
      ]
    },
    {
      "cell_type": "code",
      "source": [
        "# Convert to a C source file, i.e, a TensorFlow Lite for Microcontrollers model\n",
        "!xxd -i {pruned_tflite_file} > {MODEL_PRU_TFLITE_MICRO}\n",
        "\n",
        "# Update variable names\n",
        "REPLACE_TEXT = pruned_tflite_file.replace('/', '_').replace('.', '_')\n",
        "!sed -i 's/'{REPLACE_TEXT}'/g_model/g' {MODEL_PRU_TFLITE_MICRO}\n",
        "\n",
        "# Update variables - const\n",
        "!sed -i 's/unsigned char/alignas(8) const unsigned char/g' {MODEL_PRU_TFLITE_MICRO}\n",
        "!sed -i 's/unsigned int/const int/g' {MODEL_PRU_TFLITE_MICRO}"
      ],
      "metadata": {
        "id": "IhAORfWpIymO"
      },
      "execution_count": null,
      "outputs": []
    },
    {
      "cell_type": "code",
      "source": [
        "# Convert to a C source file, i.e, a TensorFlow Lite for Microcontrollers model\n",
        "!xxd -i {clustered_tflite_file} > {MODEL_CLU_TFLITE_MICRO}\n",
        "\n",
        "# Update variable names\n",
        "REPLACE_TEXT = clustered_tflite_file.replace('/', '_').replace('.', '_')\n",
        "!sed -i 's/'{REPLACE_TEXT}'/g_model/g' {MODEL_CLU_TFLITE_MICRO}\n",
        "\n",
        "# Update variables - const\n",
        "!sed -i 's/unsigned char/alignas(8) const unsigned char/g' {MODEL_CLU_TFLITE_MICRO}\n",
        "!sed -i 's/unsigned int/const int/g' {MODEL_CLU_TFLITE_MICRO}"
      ],
      "metadata": {
        "id": "ckrE4O3wJqpY"
      },
      "execution_count": null,
      "outputs": []
    }
  ],
  "metadata": {
    "colab": {
      "collapsed_sections": [],
      "provenance": []
    },
    "kernelspec": {
      "display_name": "Python 3",
      "name": "python3"
    },
    "language_info": {
      "name": "python"
    }
  },
  "nbformat": 4,
  "nbformat_minor": 0
}